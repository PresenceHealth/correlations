{
 "cells": [
  {
   "cell_type": "markdown",
   "metadata": {
    "deletable": true,
    "editable": true
   },
   "source": [
    "# LASSO, Elastic Nets & stepwise regression\n",
    "\n",
    "The purpose of this notebook is to test different models of feature selection using regression models."
   ]
  },
  {
   "cell_type": "code",
   "execution_count": 4,
   "metadata": {
    "collapsed": false,
    "deletable": true,
    "editable": true
   },
   "outputs": [
    {
     "name": "stderr",
     "output_type": "stream",
     "text": [
      "/Users/arianisfeld/anaconda2/envs/py36/lib/python3.6/site-packages/IPython/html.py:14: ShimWarning: The `IPython.html` package has been deprecated since IPython 4.0. You should import from `notebook` instead. `IPython.html.widgets` has moved to `ipywidgets`.\n",
      "  \"`IPython.html.widgets` has moved to `ipywidgets`.\", ShimWarning)\n"
     ]
    }
   ],
   "source": [
    "import pandas as pd\n",
    "import numpy as np\n",
    "import scipy\n",
    "import pylab as pl\n",
    "import sklearn as sk\n",
    "import seaborn as sns\n",
    "import statsmodels.api as sm\n",
    "from IPython.display import display\n",
    "%matplotlib inline\n",
    "\n",
    "import random\n",
    "random.seed(1)"
   ]
  },
  {
   "cell_type": "code",
   "execution_count": 5,
   "metadata": {
    "collapsed": false,
    "deletable": true,
    "editable": true
   },
   "outputs": [],
   "source": [
    "\n",
    "# import util file\n",
    "import sys\n",
    "# the file path is unique to my machine. ...\n",
    "sys.path.insert(0,'/Users/arianisfeld/Documents/Presence Health/Healthviz/')\n",
    "from analytics.util import drop_nan, impute, regression_split, impute_df"
   ]
  },
  {
   "cell_type": "code",
   "execution_count": 19,
   "metadata": {
    "collapsed": true
   },
   "outputs": [],
   "source": [
    "\n",
    "def re_df(dfs):\n",
    "    '''\n",
    "    Takes list of dataframes with matching indices and concatenates them\n",
    "    Input:\n",
    "        dfs (List-like of pd.DataFrames) with matching indices\n",
    "    Returns:\n",
    "        DataFrame with all the data together\n",
    "    '''\n",
    "    out_df = pd.DataFrame(index=dfs[0].index)\n",
    "    for df in dfs:\n",
    "        try:\n",
    "            out_df = pd.concat([out_df, df], axis=1)\n",
    "        except:\n",
    "            print(\"pd.concat failed for {}\".format(df.name))\n",
    "            if out_df.index != df.index:\n",
    "                print(\"DataFrames must have same index values\")\n",
    "            break\n",
    "    return out_df"
   ]
  },
  {
   "cell_type": "code",
   "execution_count": 72,
   "metadata": {
    "collapsed": false
   },
   "outputs": [
    {
     "data": {
      "text/html": [
       "<div>\n",
       "<table border=\"1\" class=\"dataframe\">\n",
       "  <thead>\n",
       "    <tr style=\"text-align: right;\">\n",
       "      <th></th>\n",
       "      <th>POP-B_2011-2015</th>\n",
       "      <th>POP-H_2011-2015</th>\n",
       "      <th>POP-A_2011-2015</th>\n",
       "      <th>AGE_2011-2015</th>\n",
       "      <th>DEP_2011-2015</th>\n",
       "      <th>INC_2011-2015</th>\n",
       "      <th>POV_2011-2015</th>\n",
       "      <th>INQ_2011-2015</th>\n",
       "      <th>DUA_2010-2014</th>\n",
       "      <th>EDE_2011-2015</th>\n",
       "      <th>EDF_2011-2015</th>\n",
       "      <th>SNP_2011-2015</th>\n",
       "      <th>TNF_2011-2015</th>\n",
       "      <th>EEC_2016</th>\n",
       "      <th>EEG_2016</th>\n",
       "      <th>MYH_2008-2014</th>\n",
       "      <th>POP_2011-2015</th>\n",
       "    </tr>\n",
       "  </thead>\n",
       "  <tbody>\n",
       "    <tr>\n",
       "      <th>1001</th>\n",
       "      <td>10315</td>\n",
       "      <td>1440</td>\n",
       "      <td>534</td>\n",
       "      <td>37.7</td>\n",
       "      <td>63.865397</td>\n",
       "      <td>51219.97561</td>\n",
       "      <td>12.879382</td>\n",
       "      <td>18.51</td>\n",
       "      <td>2.164335</td>\n",
       "      <td>23.230265</td>\n",
       "      <td>9.746964</td>\n",
       "      <td>13.777211</td>\n",
       "      <td>2.603452</td>\n",
       "      <td>24661.0</td>\n",
       "      <td>49.478934</td>\n",
       "      <td>21.5</td>\n",
       "      <td>55221</td>\n",
       "    </tr>\n",
       "    <tr>\n",
       "      <th>1003</th>\n",
       "      <td>18735</td>\n",
       "      <td>8776</td>\n",
       "      <td>1307</td>\n",
       "      <td>42.2</td>\n",
       "      <td>68.057087</td>\n",
       "      <td>50194.19774</td>\n",
       "      <td>13.411661</td>\n",
       "      <td>20.90</td>\n",
       "      <td>1.676687</td>\n",
       "      <td>28.985190</td>\n",
       "      <td>9.724017</td>\n",
       "      <td>9.003563</td>\n",
       "      <td>2.238746</td>\n",
       "      <td>94090.0</td>\n",
       "      <td>57.786162</td>\n",
       "      <td>17.5</td>\n",
       "      <td>195121</td>\n",
       "    </tr>\n",
       "    <tr>\n",
       "      <th>1005</th>\n",
       "      <td>12595</td>\n",
       "      <td>1241</td>\n",
       "      <td>244</td>\n",
       "      <td>38.8</td>\n",
       "      <td>59.653803</td>\n",
       "      <td>32924.77284</td>\n",
       "      <td>26.727439</td>\n",
       "      <td>18.70</td>\n",
       "      <td>4.737949</td>\n",
       "      <td>12.515951</td>\n",
       "      <td>5.008507</td>\n",
       "      <td>25.970505</td>\n",
       "      <td>1.984385</td>\n",
       "      <td>10390.0</td>\n",
       "      <td>5.611165</td>\n",
       "      <td>19.4</td>\n",
       "      <td>26932</td>\n",
       "    </tr>\n",
       "    <tr>\n",
       "      <th>1007</th>\n",
       "      <td>4846</td>\n",
       "      <td>502</td>\n",
       "      <td>21</td>\n",
       "      <td>38.9</td>\n",
       "      <td>56.645877</td>\n",
       "      <td>38631.97318</td>\n",
       "      <td>16.795878</td>\n",
       "      <td>21.11</td>\n",
       "      <td>4.483200</td>\n",
       "      <td>10.646874</td>\n",
       "      <td>4.594024</td>\n",
       "      <td>15.781984</td>\n",
       "      <td>7.599260</td>\n",
       "      <td>8748.0</td>\n",
       "      <td>55.544124</td>\n",
       "      <td>24.5</td>\n",
       "      <td>22604</td>\n",
       "    </tr>\n",
       "    <tr>\n",
       "      <th>1009</th>\n",
       "      <td>884</td>\n",
       "      <td>4980</td>\n",
       "      <td>83</td>\n",
       "      <td>40.7</td>\n",
       "      <td>67.207510</td>\n",
       "      <td>45758.48253</td>\n",
       "      <td>16.720933</td>\n",
       "      <td>16.23</td>\n",
       "      <td>3.031681</td>\n",
       "      <td>12.890784</td>\n",
       "      <td>4.273244</td>\n",
       "      <td>13.489623</td>\n",
       "      <td>1.104919</td>\n",
       "      <td>25384.0</td>\n",
       "      <td>81.381973</td>\n",
       "      <td>13.8</td>\n",
       "      <td>57710</td>\n",
       "    </tr>\n",
       "  </tbody>\n",
       "</table>\n",
       "</div>"
      ],
      "text/plain": [
       "      POP-B_2011-2015  POP-H_2011-2015  POP-A_2011-2015  AGE_2011-2015  \\\n",
       "1001            10315             1440              534           37.7   \n",
       "1003            18735             8776             1307           42.2   \n",
       "1005            12595             1241              244           38.8   \n",
       "1007             4846              502               21           38.9   \n",
       "1009              884             4980               83           40.7   \n",
       "\n",
       "      DEP_2011-2015  INC_2011-2015  POV_2011-2015  INQ_2011-2015  \\\n",
       "1001      63.865397    51219.97561      12.879382          18.51   \n",
       "1003      68.057087    50194.19774      13.411661          20.90   \n",
       "1005      59.653803    32924.77284      26.727439          18.70   \n",
       "1007      56.645877    38631.97318      16.795878          21.11   \n",
       "1009      67.207510    45758.48253      16.720933          16.23   \n",
       "\n",
       "      DUA_2010-2014  EDE_2011-2015  EDF_2011-2015  SNP_2011-2015  \\\n",
       "1001       2.164335      23.230265       9.746964      13.777211   \n",
       "1003       1.676687      28.985190       9.724017       9.003563   \n",
       "1005       4.737949      12.515951       5.008507      25.970505   \n",
       "1007       4.483200      10.646874       4.594024      15.781984   \n",
       "1009       3.031681      12.890784       4.273244      13.489623   \n",
       "\n",
       "      TNF_2011-2015  EEC_2016   EEG_2016  MYH_2008-2014  POP_2011-2015  \n",
       "1001       2.603452   24661.0  49.478934           21.5          55221  \n",
       "1003       2.238746   94090.0  57.786162           17.5         195121  \n",
       "1005       1.984385   10390.0   5.611165           19.4          26932  \n",
       "1007       7.599260    8748.0  55.544124           24.5          22604  \n",
       "1009       1.104919   25384.0  81.381973           13.8          57710  "
      ]
     },
     "execution_count": 72,
     "metadata": {},
     "output_type": "execute_result"
    }
   ],
   "source": [
    "# import data\n",
    "df = pd.read_csv('HealthViz County Dataset 6 21 17.csv',header=0, skiprows=[1],index_col=0,encoding='latin_1')\n",
    "df.index.name=None\n",
    "# convluded way to drop_nans\n",
    "df.drop([\"County\"], axis=1, inplace=True)\n",
    "df = re_df(regression_split(df=df,y_name=['MYH_2008-2014'],w_name='POP_2011-2015'))\n",
    "df.head()"
   ]
  },
  {
   "cell_type": "code",
   "execution_count": null,
   "metadata": {
    "collapsed": true
   },
   "outputs": [],
   "source": [
    "X,y,w = regression_split(df=df,y_name=['Diabetes mortality (deaths per 100,000), 2008-2014'],w_name='Population (residents), 2011-2015')\n",
    "Xt = X\n",
    "Xt[\"rand1\"] = np.random.choice(range(1, 12), Xt.shape[0])/15\n",
    "Xt[\"rand2\"] = np.random.choice(range(1, 3), Xt.shape[0])/5\n",
    "Xt[\"rand3\"] = np.random.choice(range(1, 3), Xt.shape[0])/2\n",
    "Xt[\"rand4\"] = np.random.choice(range(1, 3), Xt.shape[0])"
   ]
  },
  {
   "cell_type": "code",
   "execution_count": 146,
   "metadata": {
    "collapsed": true
   },
   "outputs": [],
   "source": [
    "import statsmodels.formula.api as sm\n",
    "from operator import itemgetter\n",
    "\n",
    "def forward_selected(X, y, w, delta):\n",
    "    \"\"\"adpated from http://trevor-smith.github.io/stepwise-post/\n",
    "    Linear model designed by forward selection.\n",
    "\n",
    "    Parameters:\n",
    "    -----------\n",
    "    data : pandas DataFrame with all possible predictors and response\n",
    "\n",
    "    response: string, name of response column in data\n",
    "\n",
    "    Returns:\n",
    "    --------\n",
    "    model: an \"optimal\" fitted statsmodels linear model\n",
    "           with an intercept\n",
    "           selected by forward selection\n",
    "           evaluated by adjusted R-squared\n",
    "    \"\"\"\n",
    "\n",
    "    remaining = set(X.columns)\n",
    "    \n",
    "    selected = []\n",
    "    current_score, best_new_score = 0.0, 0.0\n",
    "    while remaining and current_score == best_new_score:\n",
    "        scores_with_candidates = []\n",
    "        for candidate in remaining:\n",
    "            score = sm.WLS(y,X[selected + [candidate]],1/w).fit().rsquared_adj\n",
    "            scores_with_candidates.append((score, candidate))\n",
    "            #print(scores_with_candidates)\n",
    "        best_new_score, best_candidate = max(scores_with_candidates, key=itemgetter(0))\n",
    "        if current_score + delta < best_new_score:\n",
    "            remaining.remove(best_candidate)\n",
    "            selected.append(best_candidate)\n",
    "            current_score = best_new_score\n",
    "    model = sm.WLS(y,X[selected],1/w).fit()\n",
    "    return model"
   ]
  },
  {
   "cell_type": "markdown",
   "metadata": {},
   "source": [
    "# Stepwise"
   ]
  },
  {
   "cell_type": "code",
   "execution_count": 149,
   "metadata": {
    "collapsed": false
   },
   "outputs": [
    {
     "data": {
      "text/html": [
       "<table class=\"simpletable\">\n",
       "<caption>WLS Regression Results</caption>\n",
       "<tr>\n",
       "  <th>Dep. Variable:</th>    <td>Diabetes mortality (deaths per 100,000), 2008-2014</td> <th>  R-squared:         </th> <td>   0.889</td> \n",
       "</tr>\n",
       "<tr>\n",
       "  <th>Model:</th>                                    <td>WLS</td>                        <th>  Adj. R-squared:    </th> <td>   0.888</td> \n",
       "</tr>\n",
       "<tr>\n",
       "  <th>Method:</th>                              <td>Least Squares</td>                   <th>  F-statistic:       </th> <td>   2470.</td> \n",
       "</tr>\n",
       "<tr>\n",
       "  <th>Date:</th>                              <td>Thu, 20 Jul 2017</td>                  <th>  Prob (F-statistic):</th>  <td>  0.00</td>  \n",
       "</tr>\n",
       "<tr>\n",
       "  <th>Time:</th>                                  <td>14:31:24</td>                      <th>  Log-Likelihood:    </th> <td> -10108.</td> \n",
       "</tr>\n",
       "<tr>\n",
       "  <th>No. Observations:</th>                       <td>  2482</td>                       <th>  AIC:               </th> <td>2.023e+04</td>\n",
       "</tr>\n",
       "<tr>\n",
       "  <th>Df Residuals:</th>                           <td>  2474</td>                       <th>  BIC:               </th> <td>2.028e+04</td>\n",
       "</tr>\n",
       "<tr>\n",
       "  <th>Df Model:</th>                               <td>     8</td>                       <th>                     </th>     <td> </td>    \n",
       "</tr>\n",
       "<tr>\n",
       "  <th>Covariance Type:</th>                       <td>nonrobust</td>                     <th>                     </th>     <td> </td>    \n",
       "</tr>\n",
       "</table>\n",
       "<table class=\"simpletable\">\n",
       "<tr>\n",
       "                                     <td></td>                                        <th>coef</th>     <th>std err</th>      <th>t</th>      <th>P>|t|</th>  <th>[0.025</th>    <th>0.975]</th>  \n",
       "</tr>\n",
       "<tr>\n",
       "  <th>Share of income, top 5% (% of total income), 2011-2015</th>                  <td>    0.4890</td> <td>    0.074</td> <td>    6.601</td> <td> 0.000</td> <td>    0.344</td> <td>    0.634</td>\n",
       "</tr>\n",
       "<tr>\n",
       "  <th>Poverty rate (% of residents), 2011-2015</th>                                <td>    0.8603</td> <td>    0.040</td> <td>   21.617</td> <td> 0.000</td> <td>    0.782</td> <td>    0.938</td>\n",
       "</tr>\n",
       "<tr>\n",
       "  <th>Graduate education rate (% of residents), 2011-2015</th>                     <td>   -1.0799</td> <td>    0.093</td> <td>  -11.662</td> <td> 0.000</td> <td>   -1.262</td> <td>   -0.898</td>\n",
       "</tr>\n",
       "<tr>\n",
       "  <th>Median household income, 2011-2015</th>                                      <td>    0.0003</td> <td> 2.81e-05</td> <td>   11.102</td> <td> 0.000</td> <td>    0.000</td> <td>    0.000</td>\n",
       "</tr>\n",
       "<tr>\n",
       "  <th>Public assistance income (cash welfare) (% of households), 2011-2015</th>    <td>    1.0393</td> <td>    0.131</td> <td>    7.923</td> <td> 0.000</td> <td>    0.782</td> <td>    1.297</td>\n",
       "</tr>\n",
       "<tr>\n",
       "  <th>Total election votes (Presidential) (votes), 2016</th>                       <td>-5.395e-05</td> <td> 8.02e-06</td> <td>   -6.728</td> <td> 0.000</td> <td>-6.97e-05</td> <td>-3.82e-05</td>\n",
       "</tr>\n",
       "<tr>\n",
       "  <th>Median age, 2011-2015</th>                                                   <td>   -0.3601</td> <td>    0.041</td> <td>   -8.739</td> <td> 0.000</td> <td>   -0.441</td> <td>   -0.279</td>\n",
       "</tr>\n",
       "<tr>\n",
       "  <th>Age dependency ratio (Dependents per 100 working-age adults), 2011-2015</th> <td>    0.1406</td> <td>    0.026</td> <td>    5.372</td> <td> 0.000</td> <td>    0.089</td> <td>    0.192</td>\n",
       "</tr>\n",
       "</table>\n",
       "<table class=\"simpletable\">\n",
       "<tr>\n",
       "  <th>Omnibus:</th>       <td>1272.877</td> <th>  Durbin-Watson:     </th> <td>   1.932</td> \n",
       "</tr>\n",
       "<tr>\n",
       "  <th>Prob(Omnibus):</th>  <td> 0.000</td>  <th>  Jarque-Bera (JB):  </th> <td>15988.891</td>\n",
       "</tr>\n",
       "<tr>\n",
       "  <th>Skew:</th>           <td> 2.124</td>  <th>  Prob(JB):          </th> <td>    0.00</td> \n",
       "</tr>\n",
       "<tr>\n",
       "  <th>Kurtosis:</th>       <td>14.686</td>  <th>  Cond. No.          </th> <td>2.97e+04</td> \n",
       "</tr>\n",
       "</table>"
      ],
      "text/plain": [
       "<class 'statsmodels.iolib.summary.Summary'>\n",
       "\"\"\"\n",
       "                                            WLS Regression Results                                            \n",
       "==============================================================================================================\n",
       "Dep. Variable:     Diabetes mortality (deaths per 100,000), 2008-2014   R-squared:                       0.889\n",
       "Model:                                                            WLS   Adj. R-squared:                  0.888\n",
       "Method:                                                 Least Squares   F-statistic:                     2470.\n",
       "Date:                                                Thu, 20 Jul 2017   Prob (F-statistic):               0.00\n",
       "Time:                                                        14:31:24   Log-Likelihood:                -10108.\n",
       "No. Observations:                                                2482   AIC:                         2.023e+04\n",
       "Df Residuals:                                                    2474   BIC:                         2.028e+04\n",
       "Df Model:                                                           8                                         \n",
       "Covariance Type:                                            nonrobust                                         \n",
       "===========================================================================================================================================\n",
       "                                                                              coef    std err          t      P>|t|      [0.025      0.975]\n",
       "-------------------------------------------------------------------------------------------------------------------------------------------\n",
       "Share of income, top 5% (% of total income), 2011-2015                      0.4890      0.074      6.601      0.000       0.344       0.634\n",
       "Poverty rate (% of residents), 2011-2015                                    0.8603      0.040     21.617      0.000       0.782       0.938\n",
       "Graduate education rate (% of residents), 2011-2015                        -1.0799      0.093    -11.662      0.000      -1.262      -0.898\n",
       "Median household income, 2011-2015                                          0.0003   2.81e-05     11.102      0.000       0.000       0.000\n",
       "Public assistance income (cash welfare) (% of households), 2011-2015        1.0393      0.131      7.923      0.000       0.782       1.297\n",
       "Total election votes (Presidential) (votes), 2016                       -5.395e-05   8.02e-06     -6.728      0.000   -6.97e-05   -3.82e-05\n",
       "Median age, 2011-2015                                                      -0.3601      0.041     -8.739      0.000      -0.441      -0.279\n",
       "Age dependency ratio (Dependents per 100 working-age adults), 2011-2015     0.1406      0.026      5.372      0.000       0.089       0.192\n",
       "==============================================================================\n",
       "Omnibus:                     1272.877   Durbin-Watson:                   1.932\n",
       "Prob(Omnibus):                  0.000   Jarque-Bera (JB):            15988.891\n",
       "Skew:                           2.124   Prob(JB):                         0.00\n",
       "Kurtosis:                      14.686   Cond. No.                     2.97e+04\n",
       "==============================================================================\n",
       "\n",
       "Warnings:\n",
       "[1] Standard Errors assume that the covariance matrix of the errors is correctly specified.\n",
       "[2] The condition number is large, 2.97e+04. This might indicate that there are\n",
       "strong multicollinearity or other numerical problems.\n",
       "\"\"\""
      ]
     },
     "execution_count": 149,
     "metadata": {},
     "output_type": "execute_result"
    }
   ],
   "source": [
    "r = forward_selected(Xt,y,w,0.001)\n",
    "r.summary()"
   ]
  },
  {
   "cell_type": "code",
   "execution_count": 173,
   "metadata": {
    "collapsed": false
   },
   "outputs": [
    {
     "data": {
      "text/html": [
       "<table class=\"simpletable\">\n",
       "<caption>OLS Regression Results</caption>\n",
       "<tr>\n",
       "  <th>Dep. Variable:</th>    <td>Diabetes mortality (deaths per 100,000), 2008-2014</td> <th>  R-squared:         </th> <td>   0.895</td> \n",
       "</tr>\n",
       "<tr>\n",
       "  <th>Model:</th>                                    <td>OLS</td>                        <th>  Adj. R-squared:    </th> <td>   0.894</td> \n",
       "</tr>\n",
       "<tr>\n",
       "  <th>Method:</th>                              <td>Least Squares</td>                   <th>  F-statistic:       </th> <td>   1044.</td> \n",
       "</tr>\n",
       "<tr>\n",
       "  <th>Date:</th>                              <td>Thu, 20 Jul 2017</td>                  <th>  Prob (F-statistic):</th>  <td>  0.00</td>  \n",
       "</tr>\n",
       "<tr>\n",
       "  <th>Time:</th>                                  <td>14:42:23</td>                      <th>  Log-Likelihood:    </th> <td> -8991.1</td> \n",
       "</tr>\n",
       "<tr>\n",
       "  <th>No. Observations:</th>                       <td>  2482</td>                       <th>  AIC:               </th> <td>1.802e+04</td>\n",
       "</tr>\n",
       "<tr>\n",
       "  <th>Df Residuals:</th>                           <td>  2462</td>                       <th>  BIC:               </th> <td>1.814e+04</td>\n",
       "</tr>\n",
       "<tr>\n",
       "  <th>Df Model:</th>                               <td>    20</td>                       <th>                     </th>     <td> </td>    \n",
       "</tr>\n",
       "<tr>\n",
       "  <th>Covariance Type:</th>                       <td>nonrobust</td>                     <th>                     </th>     <td> </td>    \n",
       "</tr>\n",
       "</table>\n",
       "<table class=\"simpletable\">\n",
       "<tr>\n",
       "                                     <td></td>                                        <th>coef</th>     <th>std err</th>      <th>t</th>      <th>P>|t|</th>  <th>[0.025</th>    <th>0.975]</th>  \n",
       "</tr>\n",
       "<tr>\n",
       "  <th>Population, Non-Hispanic Black (residents), 2011-2015</th>                   <td> 7.161e-06</td> <td> 5.21e-06</td> <td>    1.375</td> <td> 0.169</td> <td>-3.05e-06</td> <td> 1.74e-05</td>\n",
       "</tr>\n",
       "<tr>\n",
       "  <th>Population, Hispanic or Latino (residents), 2011-2015</th>                   <td>-3.086e-06</td> <td> 2.66e-06</td> <td>   -1.162</td> <td> 0.245</td> <td>-8.29e-06</td> <td> 2.12e-06</td>\n",
       "</tr>\n",
       "<tr>\n",
       "  <th>Population, Asian or Pacific Islander (residents), 2011-2015</th>            <td> 1.754e-05</td> <td> 7.83e-06</td> <td>    2.239</td> <td> 0.025</td> <td> 2.18e-06</td> <td> 3.29e-05</td>\n",
       "</tr>\n",
       "<tr>\n",
       "  <th>Median age, 2011-2015</th>                                                   <td>   -0.2655</td> <td>    0.044</td> <td>   -5.982</td> <td> 0.000</td> <td>   -0.353</td> <td>   -0.178</td>\n",
       "</tr>\n",
       "<tr>\n",
       "  <th>Age dependency ratio (Dependents per 100 working-age adults), 2011-2015</th> <td>    0.1082</td> <td>    0.027</td> <td>    4.068</td> <td> 0.000</td> <td>    0.056</td> <td>    0.160</td>\n",
       "</tr>\n",
       "<tr>\n",
       "  <th>Median household income, 2011-2015</th>                                      <td>    0.0002</td> <td> 2.58e-05</td> <td>    8.155</td> <td> 0.000</td> <td>    0.000</td> <td>    0.000</td>\n",
       "</tr>\n",
       "<tr>\n",
       "  <th>Poverty rate (% of residents), 2011-2015</th>                                <td>    0.5592</td> <td>    0.061</td> <td>    9.172</td> <td> 0.000</td> <td>    0.440</td> <td>    0.679</td>\n",
       "</tr>\n",
       "<tr>\n",
       "  <th>Share of income, top 5% (% of total income), 2011-2015</th>                  <td>    0.3798</td> <td>    0.078</td> <td>    4.888</td> <td> 0.000</td> <td>    0.227</td> <td>    0.532</td>\n",
       "</tr>\n",
       "<tr>\n",
       "  <th>Dual eligible coverage (% of residents), 2010-2014</th>                      <td>   -0.2034</td> <td>    0.187</td> <td>   -1.087</td> <td> 0.277</td> <td>   -0.570</td> <td>    0.163</td>\n",
       "</tr>\n",
       "<tr>\n",
       "  <th>College graduation rate (% of residents), 2011-2015</th>                     <td>    0.0073</td> <td>    0.080</td> <td>    0.092</td> <td> 0.927</td> <td>   -0.149</td> <td>    0.163</td>\n",
       "</tr>\n",
       "<tr>\n",
       "  <th>Graduate education rate (% of residents), 2011-2015</th>                     <td>   -0.7751</td> <td>    0.151</td> <td>   -5.134</td> <td> 0.000</td> <td>   -1.071</td> <td>   -0.479</td>\n",
       "</tr>\n",
       "<tr>\n",
       "  <th>Food stamps (SNAP) (% of households), 2011-2015</th>                         <td>    0.4107</td> <td>    0.063</td> <td>    6.514</td> <td> 0.000</td> <td>    0.287</td> <td>    0.534</td>\n",
       "</tr>\n",
       "<tr>\n",
       "  <th>Public assistance income (cash welfare) (% of households), 2011-2015</th>    <td>    0.4126</td> <td>    0.136</td> <td>    3.026</td> <td> 0.003</td> <td>    0.145</td> <td>    0.680</td>\n",
       "</tr>\n",
       "<tr>\n",
       "  <th>Total election votes (Presidential) (votes), 2016</th>                       <td>-1.089e-05</td> <td> 3.85e-06</td> <td>   -2.831</td> <td> 0.005</td> <td>-1.84e-05</td> <td>-3.34e-06</td>\n",
       "</tr>\n",
       "<tr>\n",
       "  <th>Election margin, winner (Presidential) (% margin), 2016</th>                 <td>    0.0175</td> <td>    0.010</td> <td>    1.680</td> <td> 0.093</td> <td>   -0.003</td> <td>    0.038</td>\n",
       "</tr>\n",
       "<tr>\n",
       "  <th>rand</th>                                                                    <td>    0.0499</td> <td>    0.057</td> <td>    0.879</td> <td> 0.380</td> <td>   -0.061</td> <td>    0.161</td>\n",
       "</tr>\n",
       "<tr>\n",
       "  <th>rand2</th>                                                                   <td>   -1.6855</td> <td>    1.818</td> <td>   -0.927</td> <td> 0.354</td> <td>   -5.250</td> <td>    1.879</td>\n",
       "</tr>\n",
       "<tr>\n",
       "  <th>rand3</th>                                                                   <td>    1.1168</td> <td>    0.725</td> <td>    1.540</td> <td> 0.124</td> <td>   -0.306</td> <td>    2.539</td>\n",
       "</tr>\n",
       "<tr>\n",
       "  <th>rand4</th>                                                                   <td>    0.1800</td> <td>    0.363</td> <td>    0.496</td> <td> 0.620</td> <td>   -0.531</td> <td>    0.892</td>\n",
       "</tr>\n",
       "<tr>\n",
       "  <th>rand1</th>                                                                   <td>   -0.1631</td> <td>    0.862</td> <td>   -0.189</td> <td> 0.850</td> <td>   -1.854</td> <td>    1.528</td>\n",
       "</tr>\n",
       "</table>\n",
       "<table class=\"simpletable\">\n",
       "<tr>\n",
       "  <th>Omnibus:</th>       <td>899.473</td> <th>  Durbin-Watson:     </th> <td>   1.925</td>\n",
       "</tr>\n",
       "<tr>\n",
       "  <th>Prob(Omnibus):</th> <td> 0.000</td>  <th>  Jarque-Bera (JB):  </th> <td>5658.617</td>\n",
       "</tr>\n",
       "<tr>\n",
       "  <th>Skew:</th>          <td> 1.574</td>  <th>  Prob(JB):          </th> <td>    0.00</td>\n",
       "</tr>\n",
       "<tr>\n",
       "  <th>Kurtosis:</th>      <td> 9.694</td>  <th>  Cond. No.          </th> <td>1.92e+06</td>\n",
       "</tr>\n",
       "</table>"
      ],
      "text/plain": [
       "<class 'statsmodels.iolib.summary.Summary'>\n",
       "\"\"\"\n",
       "                                            OLS Regression Results                                            \n",
       "==============================================================================================================\n",
       "Dep. Variable:     Diabetes mortality (deaths per 100,000), 2008-2014   R-squared:                       0.895\n",
       "Model:                                                            OLS   Adj. R-squared:                  0.894\n",
       "Method:                                                 Least Squares   F-statistic:                     1044.\n",
       "Date:                                                Thu, 20 Jul 2017   Prob (F-statistic):               0.00\n",
       "Time:                                                        14:42:23   Log-Likelihood:                -8991.1\n",
       "No. Observations:                                                2482   AIC:                         1.802e+04\n",
       "Df Residuals:                                                    2462   BIC:                         1.814e+04\n",
       "Df Model:                                                          20                                         \n",
       "Covariance Type:                                            nonrobust                                         \n",
       "===========================================================================================================================================\n",
       "                                                                              coef    std err          t      P>|t|      [0.025      0.975]\n",
       "-------------------------------------------------------------------------------------------------------------------------------------------\n",
       "Population, Non-Hispanic Black (residents), 2011-2015                    7.161e-06   5.21e-06      1.375      0.169   -3.05e-06    1.74e-05\n",
       "Population, Hispanic or Latino (residents), 2011-2015                   -3.086e-06   2.66e-06     -1.162      0.245   -8.29e-06    2.12e-06\n",
       "Population, Asian or Pacific Islander (residents), 2011-2015             1.754e-05   7.83e-06      2.239      0.025    2.18e-06    3.29e-05\n",
       "Median age, 2011-2015                                                      -0.2655      0.044     -5.982      0.000      -0.353      -0.178\n",
       "Age dependency ratio (Dependents per 100 working-age adults), 2011-2015     0.1082      0.027      4.068      0.000       0.056       0.160\n",
       "Median household income, 2011-2015                                          0.0002   2.58e-05      8.155      0.000       0.000       0.000\n",
       "Poverty rate (% of residents), 2011-2015                                    0.5592      0.061      9.172      0.000       0.440       0.679\n",
       "Share of income, top 5% (% of total income), 2011-2015                      0.3798      0.078      4.888      0.000       0.227       0.532\n",
       "Dual eligible coverage (% of residents), 2010-2014                         -0.2034      0.187     -1.087      0.277      -0.570       0.163\n",
       "College graduation rate (% of residents), 2011-2015                         0.0073      0.080      0.092      0.927      -0.149       0.163\n",
       "Graduate education rate (% of residents), 2011-2015                        -0.7751      0.151     -5.134      0.000      -1.071      -0.479\n",
       "Food stamps (SNAP) (% of households), 2011-2015                             0.4107      0.063      6.514      0.000       0.287       0.534\n",
       "Public assistance income (cash welfare) (% of households), 2011-2015        0.4126      0.136      3.026      0.003       0.145       0.680\n",
       "Total election votes (Presidential) (votes), 2016                       -1.089e-05   3.85e-06     -2.831      0.005   -1.84e-05   -3.34e-06\n",
       "Election margin, winner (Presidential) (% margin), 2016                     0.0175      0.010      1.680      0.093      -0.003       0.038\n",
       "rand                                                                        0.0499      0.057      0.879      0.380      -0.061       0.161\n",
       "rand2                                                                      -1.6855      1.818     -0.927      0.354      -5.250       1.879\n",
       "rand3                                                                       1.1168      0.725      1.540      0.124      -0.306       2.539\n",
       "rand4                                                                       0.1800      0.363      0.496      0.620      -0.531       0.892\n",
       "rand1                                                                      -0.1631      0.862     -0.189      0.850      -1.854       1.528\n",
       "==============================================================================\n",
       "Omnibus:                      899.473   Durbin-Watson:                   1.925\n",
       "Prob(Omnibus):                  0.000   Jarque-Bera (JB):             5658.617\n",
       "Skew:                           1.574   Prob(JB):                         0.00\n",
       "Kurtosis:                       9.694   Cond. No.                     1.92e+06\n",
       "==============================================================================\n",
       "\n",
       "Warnings:\n",
       "[1] Standard Errors assume that the covariance matrix of the errors is correctly specified.\n",
       "[2] The condition number is large, 1.92e+06. This might indicate that there are\n",
       "strong multicollinearity or other numerical problems.\n",
       "\"\"\""
      ]
     },
     "execution_count": 173,
     "metadata": {},
     "output_type": "execute_result"
    }
   ],
   "source": [
    "all_covs = sm.OLS(y,Xt).fit()\n",
    "all_covs.summary()"
   ]
  },
  {
   "cell_type": "markdown",
   "metadata": {},
   "source": [
    "# Ridge"
   ]
  },
  {
   "cell_type": "code",
   "execution_count": 201,
   "metadata": {
    "collapsed": false
   },
   "outputs": [
    {
     "data": {
      "text/plain": [
       "Age dependency ratio (Dependents per 100 working-age adults), 2011-2015    0.156118\n",
       "Poverty rate (% of residents), 2011-2015                                   0.672637\n",
       "Share of income, top 5% (% of total income), 2011-2015                    -0.223679\n",
       "Dual eligible coverage (% of residents), 2010-2014                        -0.489183\n",
       "College graduation rate (% of residents), 2011-2015                       -0.155990\n",
       "Graduate education rate (% of residents), 2011-2015                       -0.307567\n",
       "Food stamps (SNAP) (% of households), 2011-2015                            0.316653\n",
       "Public assistance income (cash welfare) (% of households), 2011-2015       0.184637\n",
       "dtype: float64"
      ]
     },
     "execution_count": 201,
     "metadata": {},
     "output_type": "execute_result"
    }
   ],
   "source": [
    "n = 0.1\n",
    "ridge = sm.OLS(y,Xt).fit_regularized(alpha=1,L1_wt=0.000001)\n",
    "ridge.params[abs(ridge.params) > n]"
   ]
  },
  {
   "cell_type": "markdown",
   "metadata": {},
   "source": [
    "# Lasso"
   ]
  },
  {
   "cell_type": "code",
   "execution_count": 202,
   "metadata": {
    "collapsed": false
   },
   "outputs": [
    {
     "data": {
      "text/plain": [
       "Age dependency ratio (Dependents per 100 working-age adults), 2011-2015    0.163500\n",
       "Poverty rate (% of residents), 2011-2015                                   0.663310\n",
       "Share of income, top 5% (% of total income), 2011-2015                    -0.153346\n",
       "College graduation rate (% of residents), 2011-2015                       -0.208228\n",
       "Graduate education rate (% of residents), 2011-2015                       -0.161666\n",
       "Food stamps (SNAP) (% of households), 2011-2015                            0.232227\n",
       "dtype: float64"
      ]
     },
     "execution_count": 202,
     "metadata": {},
     "output_type": "execute_result"
    }
   ],
   "source": [
    "lasso = sm.OLS(y,Xt).fit_regularized(alpha=1,L1_wt=1)\n",
    "lasso.params[abs(lasso.params) > n]"
   ]
  },
  {
   "cell_type": "markdown",
   "metadata": {},
   "source": [
    "# Elastic Net"
   ]
  },
  {
   "cell_type": "code",
   "execution_count": 200,
   "metadata": {
    "collapsed": false
   },
   "outputs": [
    {
     "data": {
      "text/plain": [
       "Age dependency ratio (Dependents per 100 working-age adults), 2011-2015    0.158998\n",
       "Poverty rate (% of residents), 2011-2015                                   0.680639\n",
       "Share of income, top 5% (% of total income), 2011-2015                    -0.246035\n",
       "College graduation rate (% of residents), 2011-2015                       -0.141355\n",
       "Graduate education rate (% of residents), 2011-2015                       -0.324209\n",
       "Food stamps (SNAP) (% of households), 2011-2015                            0.267074\n",
       "dtype: float64"
      ]
     },
     "execution_count": 200,
     "metadata": {},
     "output_type": "execute_result"
    }
   ],
   "source": [
    "enet = sm.OLS(y,Xt).fit_regularized(alpha=.5,L1_wt=0.5)\n",
    "enet.params[abs(enet.params) > n]"
   ]
  },
  {
   "cell_type": "code",
   "execution_count": null,
   "metadata": {
    "collapsed": true
   },
   "outputs": [],
   "source": [
    "e = sm.OLS(y,Xt).fit_regularized(alpha=1,L1_wt=1)\n",
    "e.params[abs(e.params) > .1]"
   ]
  },
  {
   "cell_type": "code",
   "execution_count": 176,
   "metadata": {
    "collapsed": false
   },
   "outputs": [
    {
     "data": {
      "text/plain": [
       "Median age, 2011-2015                                                     -0.265478\n",
       "Age dependency ratio (Dependents per 100 working-age adults), 2011-2015    0.108165\n",
       "Median household income, 2011-2015                                         0.000211\n",
       "Poverty rate (% of residents), 2011-2015                                   0.559227\n",
       "Share of income, top 5% (% of total income), 2011-2015                     0.379845\n",
       "Dual eligible coverage (% of residents), 2010-2014                        -0.203399\n",
       "College graduation rate (% of residents), 2011-2015                        0.007331\n",
       "Graduate education rate (% of residents), 2011-2015                       -0.775133\n",
       "Food stamps (SNAP) (% of households), 2011-2015                            0.410656\n",
       "Public assistance income (cash welfare) (% of households), 2011-2015       0.412568\n",
       "Election margin, winner (Presidential) (% margin), 2016                    0.017472\n",
       "rand                                                                       0.049856\n",
       "rand2                                                                     -1.685509\n",
       "rand3                                                                      1.116798\n",
       "rand4                                                                      0.180021\n",
       "rand1                                                                     -0.163070\n",
       "dtype: float64"
      ]
     },
     "execution_count": 176,
     "metadata": {},
     "output_type": "execute_result"
    }
   ],
   "source": [
    "f = sm.OLS(y,Xt).fit()\n",
    "f.params[abs(f.params) > .0001]#- all_covs.params"
   ]
  }
 ],
 "metadata": {
  "kernelspec": {
   "display_name": "Python 3",
   "language": "python",
   "name": "python3"
  },
  "language_info": {
   "codemirror_mode": {
    "name": "ipython",
    "version": 3
   },
   "file_extension": ".py",
   "mimetype": "text/x-python",
   "name": "python",
   "nbconvert_exporter": "python",
   "pygments_lexer": "ipython3",
   "version": "3.6.1"
  }
 },
 "nbformat": 4,
 "nbformat_minor": 2
}
