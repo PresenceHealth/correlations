{
 "cells": [
  {
   "cell_type": "code",
   "execution_count": null,
   "metadata": {
    "collapsed": true
   },
   "outputs": [],
   "source": [
    "# Method 1: Using numpy\n",
    "import numpy as np\n",
    "a = np.array(x)\n",
    "b = np.array(y)\n",
    "dist = np.linalg.norm(a-b)\n",
    "\n",
    "# Method 2: Using scipy\n",
    "from scipy.spatial import distance\n",
    "dst = distance.euclidean(a,b)\n",
    "\n",
    "# numpy is faster than scipy"
   ]
  },
  {
   "cell_type": "code",
   "execution_count": 283,
   "metadata": {
    "collapsed": true
   },
   "outputs": [],
   "source": [
    "import pandas as pd\n",
    "import numpy as np\n",
    "data = pd.read_excel('HealthViz County Dataset 6.19.17.xlsx',skiprows=0, header=1, index_col=0)\n",
    "data.index.name=None\n",
    "data.drop(data.columns[[0,1]], axis=1, inplace=True)"
   ]
  },
  {
   "cell_type": "code",
   "execution_count": 284,
   "metadata": {
    "collapsed": true
   },
   "outputs": [],
   "source": [
    "df = pd.read_csv('HealthViz County Dataset 6 21 17.csv', skiprows=0, header=1, index_col=0, encoding = \"ISO-8859-1\")\n",
    "df.index.name=None"
   ]
  },
  {
   "cell_type": "code",
   "execution_count": 285,
   "metadata": {},
   "outputs": [],
   "source": [
    "large_population = df['Population (residents), 2011-2015'] >= 150000"
   ]
  },
  {
   "cell_type": "code",
   "execution_count": null,
   "metadata": {
    "collapsed": true
   },
   "outputs": [],
   "source": []
  },
  {
   "cell_type": "code",
   "execution_count": 286,
   "metadata": {},
   "outputs": [],
   "source": [
    "df = df[large_population]"
   ]
  },
  {
   "cell_type": "code",
   "execution_count": 287,
   "metadata": {},
   "outputs": [
    {
     "data": {
      "text/plain": [
       "(428, 18)"
      ]
     },
     "execution_count": 287,
     "metadata": {},
     "output_type": "execute_result"
    }
   ],
   "source": [
    "df.shape"
   ]
  },
  {
   "cell_type": "code",
   "execution_count": 293,
   "metadata": {},
   "outputs": [
    {
     "name": "stderr",
     "output_type": "stream",
     "text": [
      "/Users/admin/anaconda/lib/python3.6/site-packages/ipykernel_launcher.py:1: DeprecationWarning: \n",
      ".ix is deprecated. Please use\n",
      ".loc for label based indexing or\n",
      ".iloc for positional indexing\n",
      "\n",
      "See the documentation here:\n",
      "http://pandas.pydata.org/pandas-docs/stable/indexing.html#deprecate_ix\n",
      "  \"\"\"Entry point for launching an IPython kernel.\n"
     ]
    }
   ],
   "source": [
    "df = df.ix[:,8:]"
   ]
  },
  {
   "cell_type": "code",
   "execution_count": 294,
   "metadata": {},
   "outputs": [],
   "source": [
    "df.dropna(axis=0, how='any', inplace=True)"
   ]
  },
  {
   "cell_type": "code",
   "execution_count": 295,
   "metadata": {
    "collapsed": true
   },
   "outputs": [],
   "source": [
    "# Step 1: Normalize/whiten the dataframe, determine the target place (represented in GEOID, int)\n",
    "# Step 2: Get the Euclidean distance of values betweem each place and the target one for each row in dataframe\n",
    "# Step 3: Sort the dataframe based on the arising order of the distance\n",
    "# Step 4: Get the list of top N similar places\n",
    "\n",
    "from scipy.cluster.vq import kmeans,vq,whiten\n",
    "\n",
    "# Used only for this case, assuming the dataframe passed to the distance/clustering has no null values\n",
    "def drop_null(df):\n",
    "    '''\n",
    "    Drop the columns and rows with any null value\n",
    "    '''\n",
    "    \n",
    "    #df.dropna(axis=1, how='any', inplace=True)\n",
    "    df.dropna(axis=0, how='any', inplace=True)\n",
    "    return df\n",
    "    \n",
    "    \n",
    "def normalize_df(df):\n",
    "    '''\n",
    "    Normalize/whiten the dataframe\n",
    "    '''\n",
    "    df = pd.DataFrame(whiten(df), columns=df.columns, index=df.index)\n",
    "    return df\n",
    "\n",
    "def get_distance(df, GEOID_target, GEOID):\n",
    "    '''\n",
    "    Get the Euclidean distance between two sets of values\n",
    "        GEOID_target, GEOID: index, int\n",
    "    '''\n",
    "    a = df.loc[[GEOID_target]].values # df.values\n",
    "    b = df.loc[[GEOID]].values\n",
    "    dist = np.linalg.norm(a-b)\n",
    "    return dist\n",
    "\n",
    "def  get_top_n_similar(data, GEOID_target, n):\n",
    "    '''\n",
    "    Get the N places which are similar to the target place\n",
    "        data: dataframe\n",
    "        GEOID_target: index, int\n",
    "        n: int\n",
    "    '''\n",
    "    df = drop_null(data)\n",
    "    df = normalize_df(df)\n",
    "    df['distance'] = df.apply(lambda x: get_distance(df, GEOID_target, x.name), axis=1)\n",
    "    df = df.sort_values('distance', ascending=True)\n",
    "    index_list = df.head(n+1).index.tolist()[1:]\n",
    "    return index_list\n",
    "    "
   ]
  },
  {
   "cell_type": "code",
   "execution_count": 296,
   "metadata": {},
   "outputs": [
    {
     "data": {
      "text/plain": [
       "[22103, 12113, 6097]"
      ]
     },
     "execution_count": 296,
     "metadata": {},
     "output_type": "execute_result"
    }
   ],
   "source": [
    "get_top_n_similar(df, 1003, 3)"
   ]
  },
  {
   "cell_type": "code",
   "execution_count": 297,
   "metadata": {
    "collapsed": true
   },
   "outputs": [],
   "source": [
    "# elbow effect to choose K in K-means\n",
    "# sum of squared error (SSE): sum of the squared distance between each member of the cluster and its centroid"
   ]
  },
  {
   "cell_type": "code",
   "execution_count": 301,
   "metadata": {},
   "outputs": [
    {
     "data": {
      "image/png": "[encoded data removed]",
      "text/plain": [
       "<matplotlib.figure.Figure at 0x121baebe0>"
      ]
     },
     "metadata": {},
     "output_type": "display_data"
    },
    {
     "data": {
      "image/png": "[encoded data removed]",
      "text/plain": [
       "<matplotlib.figure.Figure at 0x12103a748>"
      ]
     },
     "metadata": {},
     "output_type": "display_data"
    }
   ],
   "source": [
    "from scipy.cluster.vq import kmeans,vq,whiten\n",
    "from scipy.spatial.distance import cdist\n",
    "import matplotlib.pyplot as plt\n",
    "\n",
    "K = range(1,100)\n",
    "X = whiten(df)\n",
    "KM = [kmeans(X,k) for k in K]\n",
    "centroids = [cent for (cent,var) in KM]\n",
    "D_k = [cdist(X, cent, 'euclidean') for cent in centroids]\n",
    "cIdx = [np.argmin(D,axis=1) for D in D_k]\n",
    "dist = [np.min(D,axis=1) for D in D_k]\n",
    "avgWithinSS = [sum(d)/X.shape[0] for d in dist]\n",
    "\n",
    "kIdx = 5\n",
    "fig = plt.figure()\n",
    "ax = fig.add_subplot(111)\n",
    "ax.plot(K, avgWithinSS, 'b*-')\n",
    "ax.plot(K[kIdx], avgWithinSS[kIdx], marker='o', markersize=12, \n",
    "    markeredgewidth=2, markeredgecolor='r', markerfacecolor='None')\n",
    "plt.grid(True)\n",
    "plt.xlabel('Number of clusters')\n",
    "plt.ylabel('Average within-cluster sum of squares')\n",
    "plt.title('Elbow for KMeans clustering')\n",
    "\n",
    "fig = plt.figure()\n",
    "ax = fig.add_subplot(111)\n",
    "#ax.scatter(X[:,2],X[:,1], s=30, c=cIdx[k])\n",
    "clr = ['b','g','r','c','m','y','k']\n",
    "for i in range(K[kIdx]):\n",
    "    ind = (cIdx[kIdx]==i)\n",
    "    ax.scatter(X[ind,2],X[ind,1], s=30, c=clr[i], label='Cluster %d'%i)\n",
    "#plt.xlabel('Petal Length')\n",
    "#plt.ylabel('Sepal Width')\n",
    "plt.title('KMeans clustering with K=%d' % K[kIdx])\n",
    "plt.legend()\n",
    "\n",
    "plt.show()\n",
    "\n"
   ]
  },
  {
   "cell_type": "code",
   "execution_count": 312,
   "metadata": {},
   "outputs": [],
   "source": [
    "avgWithinSS\n",
    "l = []\n",
    "for i in range(1,99):\n",
    "    rate = abs(avgWithinSS[i] - avgWithinSS[i-1])/avgWithinSS[i]\n",
    "    l = l + [rate]"
   ]
  },
  {
   "cell_type": "code",
   "execution_count": null,
   "metadata": {
    "collapsed": true
   },
   "outputs": [],
   "source": []
  }
 ],
 "metadata": {
  "kernelspec": {
   "display_name": "Python 3",
   "language": "python",
   "name": "python3"
  },
  "language_info": {
   "codemirror_mode": {
    "name": "ipython",
    "version": 3
   },
   "file_extension": ".py",
   "mimetype": "text/x-python",
   "name": "python",
   "nbconvert_exporter": "python",
   "pygments_lexer": "ipython3",
   "version": "3.6.1"
  }
 },
 "nbformat": 4,
 "nbformat_minor": 2
}
