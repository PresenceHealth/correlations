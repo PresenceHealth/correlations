{
 "cells": [
  {
   "cell_type": "code",
   "execution_count": null,
   "metadata": {
    "collapsed": true
   },
   "outputs": [],
   "source": [
    "# Method 1: Using numpy\n",
    "import numpy as np\n",
    "a = np.array(x)\n",
    "b = np.array(y)\n",
    "dist = np.linalg.norm(a-b)\n",
    "\n",
    "# Method 2: Using scipy\n",
    "from scipy.spatial import distance\n",
    "dst = distance.euclidean(a,b)\n",
    "\n",
    "# numpy is faster than scipy"
   ]
  },
  {
   "cell_type": "code",
   "execution_count": 118,
   "metadata": {
    "collapsed": true
   },
   "outputs": [],
   "source": [
    "import pandas as pd\n",
    "import numpy as np\n",
    "data = pd.read_excel('HealthViz County Dataset 6.19.17.xlsx',skiprows=0, header=1, index_col=0)\n",
    "data.index.name=None\n",
    "data.drop(data.columns[[0,1]], axis=1, inplace=True)"
   ]
  },
  {
   "cell_type": "code",
   "execution_count": 121,
   "metadata": {},
   "outputs": [],
   "source": [
    "# Step 1: Extract the target row out (assuming the targe place has the GEOID)\n",
    "# Step 2: Get the Euclidean distance betweem each place and the target one\n",
    "# Step 3: Sort the dataframe based on the arising order of the distance\n",
    "# Step 4: Get the list of top N similar places, maybe all the values for comparison\n",
    "\n",
    "def drop_null(df):\n",
    "    '''\n",
    "    Drop the columns and rows with any null value\n",
    "    '''\n",
    "    \n",
    "    df.dropna(axis=1, how='any', inplace=True)\n",
    "    df.dropna(axis=0, how='any', inplace=True)\n",
    "    return df\n",
    "\n",
    "def drop_the_targe_row(df, GEOID):\n",
    "    '''\n",
    "    Drop the target row from the orginal dataframe\n",
    "        GEOID: index, int\n",
    "    '''\n",
    "    df = df.drop([GEOID])\n",
    "    return df\n",
    "\n",
    "def get_distance(GEOID_target, GEOID):\n",
    "    '''\n",
    "    Get the Euclidean distance between two sets of values\n",
    "        GEOID_target, GEOID: index, int\n",
    "    '''\n",
    "    a = data.loc[[GEOID_target]].values # df.values\n",
    "    b = data.loc[[GEOID]].values\n",
    "    dist = np.linalg.norm(a-b)\n",
    "    return dist\n",
    "\n",
    "def  get_top_n_similar(data, GEOID_target, n):\n",
    "    '''\n",
    "    Get the N places which are similar to the target place\n",
    "        data: dataframe\n",
    "        GEOID_target: index, int\n",
    "        n: int\n",
    "    '''\n",
    "    df = drop_null(data)\n",
    "    df = drop_the_targe_row(df, GEOID_target)\n",
    "    df['distance'] = df.apply(lambda x: get_distance(GEOID_target, x.name), axis=1)\n",
    "    df = df.sort_values('distance', ascending=True)\n",
    "    index_list = df.head(n).index.tolist()\n",
    "    return index_list\n",
    "    "
   ]
  },
  {
   "cell_type": "code",
   "execution_count": 122,
   "metadata": {},
   "outputs": [
    {
     "data": {
      "text/plain": [
       "[22103, 45091, 30111, 53057, 17119, 37097]"
      ]
     },
     "execution_count": 122,
     "metadata": {},
     "output_type": "execute_result"
    }
   ],
   "source": [
    "get_top_n_similar(data, 1003, 6)"
   ]
  },
  {
   "cell_type": "code",
   "execution_count": null,
   "metadata": {
    "collapsed": true
   },
   "outputs": [],
   "source": []
  }
 ],
 "metadata": {
  "kernelspec": {
   "display_name": "Python 3",
   "language": "python",
   "name": "python3"
  },
  "language_info": {
   "codemirror_mode": {
    "name": "ipython",
    "version": 3
   },
   "file_extension": ".py",
   "mimetype": "text/x-python",
   "name": "python",
   "nbconvert_exporter": "python",
   "pygments_lexer": "ipython3",
   "version": "3.6.1"
  }
 },
 "nbformat": 4,
 "nbformat_minor": 2
}
