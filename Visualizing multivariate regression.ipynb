{
 "cells": [
  {
   "cell_type": "code",
   "execution_count": 19,
   "metadata": {
    "collapsed": false,
    "deletable": true,
    "editable": true
   },
   "outputs": [],
   "source": [
    "import pandas as pd\n",
    "import numpy as np\n",
    "import scipy\n",
    "import pylab as pl\n",
    "import sklearn as sk\n",
    "import seaborn as sns\n",
    "import statsmodels.api as sm\n",
    "from IPython.display import display\n",
    "%matplotlib inline"
   ]
  },
  {
   "cell_type": "code",
   "execution_count": 98,
   "metadata": {
    "collapsed": false,
    "deletable": true,
    "editable": true
   },
   "outputs": [],
   "source": [
    "# import util file\n",
    "import sys\n",
    "sys.path.insert(0,'/Users/arianisfeld/Documents/Presence Health/Healthviz/')\n",
    "from analytics.util import drop_nan, impute, regression_split"
   ]
  },
  {
   "cell_type": "code",
   "execution_count": 4,
   "metadata": {
    "collapsed": true,
    "deletable": true,
    "editable": true
   },
   "outputs": [],
   "source": [
    "# import data\n",
    "df = pd.read_csv('HealthViz County Dataset 6 21 17.csv',skiprows=0, header=1, index_col=0, encoding='latin_1')\n",
    "df.index.name=None"
   ]
  },
  {
   "cell_type": "code",
   "execution_count": null,
   "metadata": {
    "collapsed": false,
    "deletable": true,
    "editable": true
   },
   "outputs": [],
   "source": [
    "df.isnull().sum()"
   ]
  },
  {
   "cell_type": "code",
   "execution_count": 74,
   "metadata": {
    "collapsed": false,
    "deletable": true,
    "editable": true
   },
   "outputs": [],
   "source": [
    "\n",
    "#X = df.ix[:,df.columns]\n",
    "#y = df.ix[:,'Diabetes mortality (deaths per 100,000), 2008-2014']\n",
    "#w = df.ix[:,'Population (residents), 2011-2015']\n"
   ]
  },
  {
   "cell_type": "code",
   "execution_count": 64,
   "metadata": {
    "collapsed": false,
    "deletable": true,
    "editable": true
   },
   "outputs": [],
   "source": [
    "def get_resids(y, x_tilde, controls, weight=None):\n",
    "    if weight is None:\n",
    "        weight = np.ones(len(y))\n",
    "    res_x = sm.WLS(x_tilde, controls, 1/weight).fit().resid\n",
    "    res_y = sm.WLS(y, controls, 1/weight).fit().resid\n",
    "    return res_x, res_y\n",
    "    \n",
    "\n",
    "def added_variable_plot(df, y_name,x_tilde_name,w_name=None, exclude=['County'], X_names=None, verbose = True):\n",
    "    controls, x_tilde, y, w = regression_split(df, y_name,w_name=w_name,exclude=exclude, X_names=X_names, x_tilde_name=x_tilde_name)\n",
    "    res_x, res_y = get_resids(y, x_tilde, controls, weight=w)\n",
    "    #return res_x, res_y\n",
    "    if verbose:\n",
    "        display(sm.WLS(res_y,res_x,1/w).fit().summary())\n",
    "    \n",
    "    plot = sns.regplot(res_x, res_y)\n",
    "    return plot\n",
    "\n",
    "def regression_plot(df, y_name, x_tilde_name, w_name, exclude=['County'], X_names=None, verbose = True):\n",
    "    controls, x_tilde, y, w = regression_split(df, y_name,w_name=w_name,exclude=exclude, X_names=X_names, x_tilde_name=x_tilde_name)\n",
    "    X = pd.concat([controls, x_tilde], axis=1)\n",
    "    model = sm.WLS(y, X, 1/w).fit()\n",
    "    \n",
    "    if verbose:\n",
    "        display(model.summary())\n",
    "    \n",
    "    plot = sns.regplot(x_tilde.squeeze(), y.squeeze())\n",
    "    \n",
    "    return plot\n",
    "\n"
   ]
  },
  {
   "cell_type": "code",
   "execution_count": 97,
   "metadata": {
    "collapsed": false,
    "deletable": true,
    "editable": true
   },
   "outputs": [
    {
     "data": {
      "text/html": [
       "<table class=\"simpletable\">\n",
       "<caption>WLS Regression Results</caption>\n",
       "<tr>\n",
       "  <th>Dep. Variable:</th>    <td>Diabetes mortality (deaths per 100,000), 2008-2014</td> <th>  R-squared:         </th> <td>   0.003</td> \n",
       "</tr>\n",
       "<tr>\n",
       "  <th>Model:</th>                                    <td>WLS</td>                        <th>  Adj. R-squared:    </th> <td>   0.003</td> \n",
       "</tr>\n",
       "<tr>\n",
       "  <th>Method:</th>                              <td>Least Squares</td>                   <th>  F-statistic:       </th> <td>   8.310</td> \n",
       "</tr>\n",
       "<tr>\n",
       "  <th>Date:</th>                              <td>Wed, 05 Jul 2017</td>                  <th>  Prob (F-statistic):</th>  <td>0.00398</td> \n",
       "</tr>\n",
       "<tr>\n",
       "  <th>Time:</th>                                  <td>16:05:56</td>                      <th>  Log-Likelihood:    </th> <td> -12829.</td> \n",
       "</tr>\n",
       "<tr>\n",
       "  <th>No. Observations:</th>                       <td>  2482</td>                       <th>  AIC:               </th> <td>2.566e+04</td>\n",
       "</tr>\n",
       "<tr>\n",
       "  <th>Df Residuals:</th>                           <td>  2481</td>                       <th>  BIC:               </th> <td>2.567e+04</td>\n",
       "</tr>\n",
       "<tr>\n",
       "  <th>Df Model:</th>                               <td>     1</td>                       <th>                     </th>     <td> </td>    \n",
       "</tr>\n",
       "<tr>\n",
       "  <th>Covariance Type:</th>                       <td>nonrobust</td>                     <th>                     </th>     <td> </td>    \n",
       "</tr>\n",
       "</table>\n",
       "<table class=\"simpletable\">\n",
       "<tr>\n",
       "   <td></td>     <th>coef</th>     <th>std err</th>      <th>t</th>      <th>P>|t|</th>  <th>[0.025</th>    <th>0.975]</th>  \n",
       "</tr>\n",
       "<tr>\n",
       "  <th>x1</th> <td>   -1.6074</td> <td>    0.558</td> <td>   -2.883</td> <td> 0.004</td> <td>   -2.701</td> <td>   -0.514</td>\n",
       "</tr>\n",
       "</table>\n",
       "<table class=\"simpletable\">\n",
       "<tr>\n",
       "  <th>Omnibus:</th>       <td>1443.570</td> <th>  Durbin-Watson:     </th> <td>   0.706</td> \n",
       "</tr>\n",
       "<tr>\n",
       "  <th>Prob(Omnibus):</th>  <td> 0.000</td>  <th>  Jarque-Bera (JB):  </th> <td>18198.913</td>\n",
       "</tr>\n",
       "<tr>\n",
       "  <th>Skew:</th>           <td> 2.519</td>  <th>  Prob(JB):          </th> <td>    0.00</td> \n",
       "</tr>\n",
       "<tr>\n",
       "  <th>Kurtosis:</th>       <td>15.272</td>  <th>  Cond. No.          </th> <td>    1.00</td> \n",
       "</tr>\n",
       "</table>"
      ],
      "text/plain": [
       "<class 'statsmodels.iolib.summary.Summary'>\n",
       "\"\"\"\n",
       "                                            WLS Regression Results                                            \n",
       "==============================================================================================================\n",
       "Dep. Variable:     Diabetes mortality (deaths per 100,000), 2008-2014   R-squared:                       0.003\n",
       "Model:                                                            WLS   Adj. R-squared:                  0.003\n",
       "Method:                                                 Least Squares   F-statistic:                     8.310\n",
       "Date:                                                Wed, 05 Jul 2017   Prob (F-statistic):            0.00398\n",
       "Time:                                                        16:05:56   Log-Likelihood:                -12829.\n",
       "No. Observations:                                                2482   AIC:                         2.566e+04\n",
       "Df Residuals:                                                    2481   BIC:                         2.567e+04\n",
       "Df Model:                                                           1                                         \n",
       "Covariance Type:                                            nonrobust                                         \n",
       "==============================================================================\n",
       "                 coef    std err          t      P>|t|      [0.025      0.975]\n",
       "------------------------------------------------------------------------------\n",
       "x1            -1.6074      0.558     -2.883      0.004      -2.701      -0.514\n",
       "==============================================================================\n",
       "Omnibus:                     1443.570   Durbin-Watson:                   0.706\n",
       "Prob(Omnibus):                  0.000   Jarque-Bera (JB):            18198.913\n",
       "Skew:                           2.519   Prob(JB):                         0.00\n",
       "Kurtosis:                      15.272   Cond. No.                         1.00\n",
       "==============================================================================\n",
       "\n",
       "Warnings:\n",
       "[1] Standard Errors assume that the covariance matrix of the errors is correctly specified.\n",
       "\"\"\""
      ]
     },
     "execution_count": 97,
     "metadata": {},
     "output_type": "execute_result"
    },
    {
     "data": {
      "image/png": "[encoded data removed]",
      "text/plain": [
       "<matplotlib.figure.Figure at 0x11f0389e8>"
      ]
     },
     "metadata": {},
     "output_type": "display_data"
    }
   ],
   "source": [
    "y_n = y[c.index]\n",
    "sns.regplot(c, y_n)\n",
    "sm.WLS(y_n, c, 1/wgts).fit().summary()"
   ]
  },
  {
   "cell_type": "code",
   "execution_count": 63,
   "metadata": {
    "collapsed": false,
    "deletable": true,
    "editable": true
   },
   "outputs": [
    {
     "data": {
      "text/html": [
       "<table class=\"simpletable\">\n",
       "<caption>WLS Regression Results</caption>\n",
       "<tr>\n",
       "  <th>Dep. Variable:</th>            <td>y</td>        <th>  R-squared:         </th> <td>   0.030</td> \n",
       "</tr>\n",
       "<tr>\n",
       "  <th>Model:</th>                   <td>WLS</td>       <th>  Adj. R-squared:    </th> <td>   0.029</td> \n",
       "</tr>\n",
       "<tr>\n",
       "  <th>Method:</th>             <td>Least Squares</td>  <th>  F-statistic:       </th> <td>   76.19</td> \n",
       "</tr>\n",
       "<tr>\n",
       "  <th>Date:</th>             <td>Wed, 05 Jul 2017</td> <th>  Prob (F-statistic):</th> <td>4.63e-18</td> \n",
       "</tr>\n",
       "<tr>\n",
       "  <th>Time:</th>                 <td>15:42:41</td>     <th>  Log-Likelihood:    </th> <td> -10079.</td> \n",
       "</tr>\n",
       "<tr>\n",
       "  <th>No. Observations:</th>      <td>  2482</td>      <th>  AIC:               </th> <td>2.016e+04</td>\n",
       "</tr>\n",
       "<tr>\n",
       "  <th>Df Residuals:</th>          <td>  2481</td>      <th>  BIC:               </th> <td>2.017e+04</td>\n",
       "</tr>\n",
       "<tr>\n",
       "  <th>Df Model:</th>              <td>     1</td>      <th>                     </th>     <td> </td>    \n",
       "</tr>\n",
       "<tr>\n",
       "  <th>Covariance Type:</th>      <td>nonrobust</td>    <th>                     </th>     <td> </td>    \n",
       "</tr>\n",
       "</table>\n",
       "<table class=\"simpletable\">\n",
       "<tr>\n",
       "   <td></td>     <th>coef</th>     <th>std err</th>      <th>t</th>      <th>P>|t|</th>  <th>[0.025</th>    <th>0.975]</th>  \n",
       "</tr>\n",
       "<tr>\n",
       "  <th>x1</th> <td>   -1.6074</td> <td>    0.184</td> <td>   -8.729</td> <td> 0.000</td> <td>   -1.968</td> <td>   -1.246</td>\n",
       "</tr>\n",
       "</table>\n",
       "<table class=\"simpletable\">\n",
       "<tr>\n",
       "  <th>Omnibus:</th>       <td>1277.733</td> <th>  Durbin-Watson:     </th> <td>   1.916</td> \n",
       "</tr>\n",
       "<tr>\n",
       "  <th>Prob(Omnibus):</th>  <td> 0.000</td>  <th>  Jarque-Bera (JB):  </th> <td>16164.010</td>\n",
       "</tr>\n",
       "<tr>\n",
       "  <th>Skew:</th>           <td> 2.132</td>  <th>  Prob(JB):          </th> <td>    0.00</td> \n",
       "</tr>\n",
       "<tr>\n",
       "  <th>Kurtosis:</th>       <td>14.752</td>  <th>  Cond. No.          </th> <td>    1.00</td> \n",
       "</tr>\n",
       "</table>"
      ],
      "text/plain": [
       "<class 'statsmodels.iolib.summary.Summary'>\n",
       "\"\"\"\n",
       "                            WLS Regression Results                            \n",
       "==============================================================================\n",
       "Dep. Variable:                      y   R-squared:                       0.030\n",
       "Model:                            WLS   Adj. R-squared:                  0.029\n",
       "Method:                 Least Squares   F-statistic:                     76.19\n",
       "Date:                Wed, 05 Jul 2017   Prob (F-statistic):           4.63e-18\n",
       "Time:                        15:42:41   Log-Likelihood:                -10079.\n",
       "No. Observations:                2482   AIC:                         2.016e+04\n",
       "Df Residuals:                    2481   BIC:                         2.017e+04\n",
       "Df Model:                           1                                         \n",
       "Covariance Type:            nonrobust                                         \n",
       "==============================================================================\n",
       "                 coef    std err          t      P>|t|      [0.025      0.975]\n",
       "------------------------------------------------------------------------------\n",
       "x1            -1.6074      0.184     -8.729      0.000      -1.968      -1.246\n",
       "==============================================================================\n",
       "Omnibus:                     1277.733   Durbin-Watson:                   1.916\n",
       "Prob(Omnibus):                  0.000   Jarque-Bera (JB):            16164.010\n",
       "Skew:                           2.132   Prob(JB):                         0.00\n",
       "Kurtosis:                      14.752   Cond. No.                         1.00\n",
       "==============================================================================\n",
       "\n",
       "Warnings:\n",
       "[1] Standard Errors assume that the covariance matrix of the errors is correctly specified.\n",
       "\"\"\""
      ]
     },
     "execution_count": 63,
     "metadata": {},
     "output_type": "execute_result"
    }
   ],
   "source": [
    "wgts = w[c.index]\n",
    "sm.WLS(d,c,1/wgts).fit().summary()"
   ]
  },
  {
   "cell_type": "code",
   "execution_count": 44,
   "metadata": {
    "collapsed": false,
    "deletable": true,
    "editable": true,
    "scrolled": false
   },
   "outputs": [
    {
     "data": {
      "text/html": [
       "<table class=\"simpletable\">\n",
       "<caption>WLS Regression Results</caption>\n",
       "<tr>\n",
       "  <th>Dep. Variable:</th>    <td>Diabetes mortality (deaths per 100,000), 2008-2014</td> <th>  R-squared:         </th> <td>   0.891</td> \n",
       "</tr>\n",
       "<tr>\n",
       "  <th>Model:</th>                                    <td>WLS</td>                        <th>  Adj. R-squared:    </th> <td>   0.891</td> \n",
       "</tr>\n",
       "<tr>\n",
       "  <th>Method:</th>                              <td>Least Squares</td>                   <th>  F-statistic:       </th> <td>   1349.</td> \n",
       "</tr>\n",
       "<tr>\n",
       "  <th>Date:</th>                              <td>Wed, 05 Jul 2017</td>                  <th>  Prob (F-statistic):</th>  <td>  0.00</td>  \n",
       "</tr>\n",
       "<tr>\n",
       "  <th>Time:</th>                                  <td>15:27:10</td>                      <th>  Log-Likelihood:    </th> <td> -10079.</td> \n",
       "</tr>\n",
       "<tr>\n",
       "  <th>No. Observations:</th>                       <td>  2482</td>                       <th>  AIC:               </th> <td>2.019e+04</td>\n",
       "</tr>\n",
       "<tr>\n",
       "  <th>Df Residuals:</th>                           <td>  2467</td>                       <th>  BIC:               </th> <td>2.028e+04</td>\n",
       "</tr>\n",
       "<tr>\n",
       "  <th>Df Model:</th>                               <td>    15</td>                       <th>                     </th>     <td> </td>    \n",
       "</tr>\n",
       "<tr>\n",
       "  <th>Covariance Type:</th>                       <td>nonrobust</td>                     <th>                     </th>     <td> </td>    \n",
       "</tr>\n",
       "</table>\n",
       "<table class=\"simpletable\">\n",
       "<tr>\n",
       "                                     <td></td>                                        <th>coef</th>     <th>std err</th>      <th>t</th>      <th>P>|t|</th>  <th>[0.025</th>    <th>0.975]</th>  \n",
       "</tr>\n",
       "<tr>\n",
       "  <th>Population, Non-Hispanic Black (residents), 2011-2015</th>                   <td> 5.862e-05</td> <td> 2.65e-05</td> <td>    2.216</td> <td> 0.027</td> <td> 6.75e-06</td> <td>    0.000</td>\n",
       "</tr>\n",
       "<tr>\n",
       "  <th>Population, Hispanic or Latino (residents), 2011-2015</th>                   <td>-3.392e-05</td> <td> 2.08e-05</td> <td>   -1.634</td> <td> 0.102</td> <td>-7.46e-05</td> <td>  6.8e-06</td>\n",
       "</tr>\n",
       "<tr>\n",
       "  <th>Population, Asian or Pacific Islander (residents), 2011-2015</th>            <td>    0.0001</td> <td> 6.14e-05</td> <td>    1.988</td> <td> 0.047</td> <td> 1.64e-06</td> <td>    0.000</td>\n",
       "</tr>\n",
       "<tr>\n",
       "  <th>Median age, 2011-2015</th>                                                   <td>   -0.3907</td> <td>    0.045</td> <td>   -8.770</td> <td> 0.000</td> <td>   -0.478</td> <td>   -0.303</td>\n",
       "</tr>\n",
       "<tr>\n",
       "  <th>Age dependency ratio (Dependents per 100 working-age adults), 2011-2015</th> <td>    0.1410</td> <td>    0.027</td> <td>    5.159</td> <td> 0.000</td> <td>    0.087</td> <td>    0.195</td>\n",
       "</tr>\n",
       "<tr>\n",
       "  <th>Median household income, 2011-2015</th>                                      <td>    0.0003</td> <td> 3.16e-05</td> <td>    8.241</td> <td> 0.000</td> <td>    0.000</td> <td>    0.000</td>\n",
       "</tr>\n",
       "<tr>\n",
       "  <th>Poverty rate (% of residents), 2011-2015</th>                                <td>    0.6307</td> <td>    0.060</td> <td>   10.479</td> <td> 0.000</td> <td>    0.513</td> <td>    0.749</td>\n",
       "</tr>\n",
       "<tr>\n",
       "  <th>Share of income, top 5% (% of total income), 2011-2015</th>                  <td>    0.4325</td> <td>    0.075</td> <td>    5.763</td> <td> 0.000</td> <td>    0.285</td> <td>    0.580</td>\n",
       "</tr>\n",
       "<tr>\n",
       "  <th>Dual eligible coverage (% of residents), 2010-2014</th>                      <td>   -0.4006</td> <td>    0.196</td> <td>   -2.046</td> <td> 0.041</td> <td>   -0.785</td> <td>   -0.017</td>\n",
       "</tr>\n",
       "<tr>\n",
       "  <th>College graduation rate (% of residents), 2011-2015</th>                     <td>    0.3522</td> <td>    0.092</td> <td>    3.812</td> <td> 0.000</td> <td>    0.171</td> <td>    0.533</td>\n",
       "</tr>\n",
       "<tr>\n",
       "  <th>Food stamps (SNAP) (% of households), 2011-2015</th>                         <td>    0.3929</td> <td>    0.066</td> <td>    5.970</td> <td> 0.000</td> <td>    0.264</td> <td>    0.522</td>\n",
       "</tr>\n",
       "<tr>\n",
       "  <th>Public assistance income (cash welfare) (% of households), 2011-2015</th>    <td>    0.8733</td> <td>    0.139</td> <td>    6.292</td> <td> 0.000</td> <td>    0.601</td> <td>    1.146</td>\n",
       "</tr>\n",
       "<tr>\n",
       "  <th>Total election votes (Presidential) (votes), 2016</th>                       <td>-6.434e-05</td> <td> 9.52e-06</td> <td>   -6.756</td> <td> 0.000</td> <td> -8.3e-05</td> <td>-4.57e-05</td>\n",
       "</tr>\n",
       "<tr>\n",
       "  <th>Election margin, winner (Presidential) (% margin), 2016</th>                 <td>    0.0303</td> <td>    0.012</td> <td>    2.525</td> <td> 0.012</td> <td>    0.007</td> <td>    0.054</td>\n",
       "</tr>\n",
       "<tr>\n",
       "  <th>Graduate education rate (% of residents), 2011-2015</th>                     <td>   -1.6074</td> <td>    0.185</td> <td>   -8.704</td> <td> 0.000</td> <td>   -1.970</td> <td>   -1.245</td>\n",
       "</tr>\n",
       "</table>\n",
       "<table class=\"simpletable\">\n",
       "<tr>\n",
       "  <th>Omnibus:</th>       <td>1277.733</td> <th>  Durbin-Watson:     </th> <td>   1.916</td> \n",
       "</tr>\n",
       "<tr>\n",
       "  <th>Prob(Omnibus):</th>  <td> 0.000</td>  <th>  Jarque-Bera (JB):  </th> <td>16164.010</td>\n",
       "</tr>\n",
       "<tr>\n",
       "  <th>Skew:</th>           <td> 2.132</td>  <th>  Prob(JB):          </th> <td>    0.00</td> \n",
       "</tr>\n",
       "<tr>\n",
       "  <th>Kurtosis:</th>       <td>14.752</td>  <th>  Cond. No.          </th> <td>4.68e+04</td> \n",
       "</tr>\n",
       "</table>"
      ],
      "text/plain": [
       "<class 'statsmodels.iolib.summary.Summary'>\n",
       "\"\"\"\n",
       "                                            WLS Regression Results                                            \n",
       "==============================================================================================================\n",
       "Dep. Variable:     Diabetes mortality (deaths per 100,000), 2008-2014   R-squared:                       0.891\n",
       "Model:                                                            WLS   Adj. R-squared:                  0.891\n",
       "Method:                                                 Least Squares   F-statistic:                     1349.\n",
       "Date:                                                Wed, 05 Jul 2017   Prob (F-statistic):               0.00\n",
       "Time:                                                        15:27:10   Log-Likelihood:                -10079.\n",
       "No. Observations:                                                2482   AIC:                         2.019e+04\n",
       "Df Residuals:                                                    2467   BIC:                         2.028e+04\n",
       "Df Model:                                                          15                                         \n",
       "Covariance Type:                                            nonrobust                                         \n",
       "===========================================================================================================================================\n",
       "                                                                              coef    std err          t      P>|t|      [0.025      0.975]\n",
       "-------------------------------------------------------------------------------------------------------------------------------------------\n",
       "Population, Non-Hispanic Black (residents), 2011-2015                    5.862e-05   2.65e-05      2.216      0.027    6.75e-06       0.000\n",
       "Population, Hispanic or Latino (residents), 2011-2015                   -3.392e-05   2.08e-05     -1.634      0.102   -7.46e-05     6.8e-06\n",
       "Population, Asian or Pacific Islander (residents), 2011-2015                0.0001   6.14e-05      1.988      0.047    1.64e-06       0.000\n",
       "Median age, 2011-2015                                                      -0.3907      0.045     -8.770      0.000      -0.478      -0.303\n",
       "Age dependency ratio (Dependents per 100 working-age adults), 2011-2015     0.1410      0.027      5.159      0.000       0.087       0.195\n",
       "Median household income, 2011-2015                                          0.0003   3.16e-05      8.241      0.000       0.000       0.000\n",
       "Poverty rate (% of residents), 2011-2015                                    0.6307      0.060     10.479      0.000       0.513       0.749\n",
       "Share of income, top 5% (% of total income), 2011-2015                      0.4325      0.075      5.763      0.000       0.285       0.580\n",
       "Dual eligible coverage (% of residents), 2010-2014                         -0.4006      0.196     -2.046      0.041      -0.785      -0.017\n",
       "College graduation rate (% of residents), 2011-2015                         0.3522      0.092      3.812      0.000       0.171       0.533\n",
       "Food stamps (SNAP) (% of households), 2011-2015                             0.3929      0.066      5.970      0.000       0.264       0.522\n",
       "Public assistance income (cash welfare) (% of households), 2011-2015        0.8733      0.139      6.292      0.000       0.601       1.146\n",
       "Total election votes (Presidential) (votes), 2016                       -6.434e-05   9.52e-06     -6.756      0.000    -8.3e-05   -4.57e-05\n",
       "Election margin, winner (Presidential) (% margin), 2016                     0.0303      0.012      2.525      0.012       0.007       0.054\n",
       "Graduate education rate (% of residents), 2011-2015                        -1.6074      0.185     -8.704      0.000      -1.970      -1.245\n",
       "==============================================================================\n",
       "Omnibus:                     1277.733   Durbin-Watson:                   1.916\n",
       "Prob(Omnibus):                  0.000   Jarque-Bera (JB):            16164.010\n",
       "Skew:                           2.132   Prob(JB):                         0.00\n",
       "Kurtosis:                      14.752   Cond. No.                     4.68e+04\n",
       "==============================================================================\n",
       "\n",
       "Warnings:\n",
       "[1] Standard Errors assume that the covariance matrix of the errors is correctly specified.\n",
       "[2] The condition number is large, 4.68e+04. This might indicate that there are\n",
       "strong multicollinearity or other numerical problems.\n",
       "\"\"\""
      ]
     },
     "metadata": {},
     "output_type": "display_data"
    },
    {
     "data": {
      "text/plain": [
       "<matplotlib.axes._subplots.AxesSubplot at 0x11e8b9080>"
      ]
     },
     "execution_count": 44,
     "metadata": {},
     "output_type": "execute_result"
    },
    {
     "data": {
      "image/png": "[encoded data removed]",
      "text/plain": [
       "<matplotlib.figure.Figure at 0x11a018c50>"
      ]
     },
     "metadata": {},
     "output_type": "display_data"
    }
   ],
   "source": [
    "regression_plot(df, y_name=['Diabetes mortality (deaths per 100,000), 2008-2014'], \n",
    "     x_tilde_name=['Graduate education rate (% of residents), 2011-2015'], \n",
    "     w_name='Population (residents), 2011-2015')"
   ]
  },
  {
   "cell_type": "code",
   "execution_count": 65,
   "metadata": {
    "collapsed": false,
    "deletable": true,
    "editable": true
   },
   "outputs": [
    {
     "data": {
      "text/html": [
       "<table class=\"simpletable\">\n",
       "<caption>WLS Regression Results</caption>\n",
       "<tr>\n",
       "  <th>Dep. Variable:</th>            <td>y</td>        <th>  R-squared:         </th> <td>   0.030</td> \n",
       "</tr>\n",
       "<tr>\n",
       "  <th>Model:</th>                   <td>WLS</td>       <th>  Adj. R-squared:    </th> <td>   0.029</td> \n",
       "</tr>\n",
       "<tr>\n",
       "  <th>Method:</th>             <td>Least Squares</td>  <th>  F-statistic:       </th> <td>   76.19</td> \n",
       "</tr>\n",
       "<tr>\n",
       "  <th>Date:</th>             <td>Wed, 05 Jul 2017</td> <th>  Prob (F-statistic):</th> <td>4.63e-18</td> \n",
       "</tr>\n",
       "<tr>\n",
       "  <th>Time:</th>                 <td>15:44:03</td>     <th>  Log-Likelihood:    </th> <td> -10079.</td> \n",
       "</tr>\n",
       "<tr>\n",
       "  <th>No. Observations:</th>      <td>  2482</td>      <th>  AIC:               </th> <td>2.016e+04</td>\n",
       "</tr>\n",
       "<tr>\n",
       "  <th>Df Residuals:</th>          <td>  2481</td>      <th>  BIC:               </th> <td>2.017e+04</td>\n",
       "</tr>\n",
       "<tr>\n",
       "  <th>Df Model:</th>              <td>     1</td>      <th>                     </th>     <td> </td>    \n",
       "</tr>\n",
       "<tr>\n",
       "  <th>Covariance Type:</th>      <td>nonrobust</td>    <th>                     </th>     <td> </td>    \n",
       "</tr>\n",
       "</table>\n",
       "<table class=\"simpletable\">\n",
       "<tr>\n",
       "   <td></td>     <th>coef</th>     <th>std err</th>      <th>t</th>      <th>P>|t|</th>  <th>[0.025</th>    <th>0.975]</th>  \n",
       "</tr>\n",
       "<tr>\n",
       "  <th>x1</th> <td>   -1.6074</td> <td>    0.184</td> <td>   -8.729</td> <td> 0.000</td> <td>   -1.968</td> <td>   -1.246</td>\n",
       "</tr>\n",
       "</table>\n",
       "<table class=\"simpletable\">\n",
       "<tr>\n",
       "  <th>Omnibus:</th>       <td>1277.733</td> <th>  Durbin-Watson:     </th> <td>   1.916</td> \n",
       "</tr>\n",
       "<tr>\n",
       "  <th>Prob(Omnibus):</th>  <td> 0.000</td>  <th>  Jarque-Bera (JB):  </th> <td>16164.010</td>\n",
       "</tr>\n",
       "<tr>\n",
       "  <th>Skew:</th>           <td> 2.132</td>  <th>  Prob(JB):          </th> <td>    0.00</td> \n",
       "</tr>\n",
       "<tr>\n",
       "  <th>Kurtosis:</th>       <td>14.752</td>  <th>  Cond. No.          </th> <td>    1.00</td> \n",
       "</tr>\n",
       "</table>"
      ],
      "text/plain": [
       "<class 'statsmodels.iolib.summary.Summary'>\n",
       "\"\"\"\n",
       "                            WLS Regression Results                            \n",
       "==============================================================================\n",
       "Dep. Variable:                      y   R-squared:                       0.030\n",
       "Model:                            WLS   Adj. R-squared:                  0.029\n",
       "Method:                 Least Squares   F-statistic:                     76.19\n",
       "Date:                Wed, 05 Jul 2017   Prob (F-statistic):           4.63e-18\n",
       "Time:                        15:44:03   Log-Likelihood:                -10079.\n",
       "No. Observations:                2482   AIC:                         2.016e+04\n",
       "Df Residuals:                    2481   BIC:                         2.017e+04\n",
       "Df Model:                           1                                         \n",
       "Covariance Type:            nonrobust                                         \n",
       "==============================================================================\n",
       "                 coef    std err          t      P>|t|      [0.025      0.975]\n",
       "------------------------------------------------------------------------------\n",
       "x1            -1.6074      0.184     -8.729      0.000      -1.968      -1.246\n",
       "==============================================================================\n",
       "Omnibus:                     1277.733   Durbin-Watson:                   1.916\n",
       "Prob(Omnibus):                  0.000   Jarque-Bera (JB):            16164.010\n",
       "Skew:                           2.132   Prob(JB):                         0.00\n",
       "Kurtosis:                      14.752   Cond. No.                         1.00\n",
       "==============================================================================\n",
       "\n",
       "Warnings:\n",
       "[1] Standard Errors assume that the covariance matrix of the errors is correctly specified.\n",
       "\"\"\""
      ]
     },
     "metadata": {},
     "output_type": "display_data"
    },
    {
     "data": {
      "text/plain": [
       "<matplotlib.axes._subplots.AxesSubplot at 0x11edc9320>"
      ]
     },
     "execution_count": 65,
     "metadata": {},
     "output_type": "execute_result"
    },
    {
     "data": {
      "image/png": "[encoded data removed]",
      "text/plain": [
       "<matplotlib.figure.Figure at 0x11ebadac8>"
      ]
     },
     "metadata": {},
     "output_type": "display_data"
    }
   ],
   "source": [
    "added_variable_plot(df, y_name=['Diabetes mortality (deaths per 100,000), 2008-2014'], \n",
    "     x_tilde_name=['Graduate education rate (% of residents), 2011-2015'], \n",
    "     w_name='Population (residents), 2011-2015')"
   ]
  },
  {
   "cell_type": "code",
   "execution_count": null,
   "metadata": {
    "collapsed": false,
    "deletable": true,
    "editable": true
   },
   "outputs": [],
   "source": [
    "all_X,y,w = regression_split(df, ['Diabetes mortality (deaths per 100,000), 2008-2014'],'Population (residents), 2011-2015')"
   ]
  },
  {
   "cell_type": "code",
   "execution_count": null,
   "metadata": {
    "collapsed": false,
    "deletable": true,
    "editable": true
   },
   "outputs": [],
   "source": [
    "all_X,y,w = drop_nan(all_X,y,w)\n",
    "sm.WLS(y,all_X,1/w).fit().summary()"
   ]
  },
  {
   "cell_type": "code",
   "execution_count": null,
   "metadata": {
    "collapsed": false,
    "deletable": true,
    "editable": true
   },
   "outputs": [],
   "source": [
    "X, X_tilde, void = regression_split(all_X, [\"Poverty rate (% of residents), 2011-2015\"])"
   ]
  },
  {
   "cell_type": "code",
   "execution_count": null,
   "metadata": {
    "collapsed": false,
    "deletable": true,
    "editable": true
   },
   "outputs": [],
   "source": [
    "partial_X = sm.WLS(X_tilde, X,1/w).fit()\n",
    "partial_y = sm.WLS(y, X,1/w).fit()\n",
    "\n",
    "pred_y = partial_y.predict()\n",
    "pred_X = partial_X.predict()\n",
    "\n",
    "resid_y = partial_y.resid\n",
    "resid_X = partial_X.resid\n"
   ]
  },
  {
   "cell_type": "code",
   "execution_count": null,
   "metadata": {
    "collapsed": false,
    "deletable": true,
    "editable": true
   },
   "outputs": [],
   "source": [
    "sns.regplot(pred_X, pred_y)"
   ]
  },
  {
   "cell_type": "code",
   "execution_count": null,
   "metadata": {
    "collapsed": false,
    "deletable": true,
    "editable": true
   },
   "outputs": [],
   "source": [
    "sns.regplot(resid_X, resid_y)"
   ]
  },
  {
   "cell_type": "code",
   "execution_count": null,
   "metadata": {
    "collapsed": false,
    "deletable": true,
    "editable": true
   },
   "outputs": [],
   "source": [
    "sns.regplot(x='Poverty rate (% of residents), 2011-2015', y='Diabetes mortality (deaths per 100,000), 2008-2014',data=df)"
   ]
  },
  {
   "cell_type": "code",
   "execution_count": null,
   "metadata": {
    "collapsed": true,
    "deletable": true,
    "editable": true
   },
   "outputs": [],
   "source": []
  }
 ],
 "metadata": {
  "kernelspec": {
   "display_name": "Python 3",
   "language": "python",
   "name": "python3"
  },
  "language_info": {
   "codemirror_mode": {
    "name": "ipython",
    "version": 3
   },
   "file_extension": ".py",
   "mimetype": "text/x-python",
   "name": "python",
   "nbconvert_exporter": "python",
   "pygments_lexer": "ipython3",
   "version": "3.6.1"
  }
 },
 "nbformat": 4,
 "nbformat_minor": 2
}
