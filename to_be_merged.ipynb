{
 "cells": [
  {
   "cell_type": "code",
   "execution_count": null,
   "metadata": {
    "collapsed": false,
    "deletable": true,
    "editable": true
   },
   "outputs": [],
   "source": [
    "import pandas as pd\n",
    "import numpy as np\n",
    "import scipy\n",
    "import pylab as pl\n",
    "import sklearn as sk\n",
    "import seaborn as sns\n",
    "%matplotlib inline"
   ]
  },
  {
   "cell_type": "code",
   "execution_count": null,
   "metadata": {
    "collapsed": false,
    "deletable": true,
    "editable": true
   },
   "outputs": [],
   "source": [
    "data = pd.read_excel('HealthViz County Dataset 6.19.17.xlsx',skiprows=0, header=1, index_col=0)\n",
    "data.index.name=None"
   ]
  },
  {
   "cell_type": "code",
   "execution_count": null,
   "metadata": {
    "collapsed": false,
    "deletable": true,
    "editable": true
   },
   "outputs": [],
   "source": [
    "data.shape"
   ]
  },
  {
   "cell_type": "code",
   "execution_count": null,
   "metadata": {
    "collapsed": false,
    "deletable": true,
    "editable": true
   },
   "outputs": [],
   "source": [
    "data.head()"
   ]
  },
  {
   "cell_type": "code",
   "execution_count": null,
   "metadata": {
    "collapsed": false,
    "deletable": true,
    "editable": true
   },
   "outputs": [],
   "source": [
    "\n",
    "def cov(x,y,w=None):\n",
    "    '''\n",
    "    Calculates covariance of x,y weighted by w.\n",
    "    Parameters\n",
    "        x,y: pd.Series\n",
    "        w: pd.Series or None\n",
    "    Returns\n",
    "        covariance: float\n",
    "    '''\n",
    "    if w is None:\n",
    "        w = pd.Series(np.ones(x.shape[0]))\n",
    "        w.index = x.index\n",
    "        \n",
    "    numerator = sum(w*(x - np.average(x, weights=w))*(y - np.average(y, weights=w)))\n",
    "    denominator = sum(w)\n",
    "    return numerator/denominator\n",
    "\n",
    "def corr(x, y, w=None, check_nulls = False):\n",
    "    '''\n",
    "    Calculates Pearson correlation between x,y weighted by w.\n",
    "    Parameters\n",
    "        x,y: pd.Series\n",
    "        w: pd.Series or None\n",
    "        check_nulls: Boolean, optional \n",
    "    Returns\n",
    "        covariance: float\n",
    "    '''\n",
    "    if w is None:\n",
    "        w = pd.Series(np.ones(x.shape[0]))\n",
    "        w.index = x.index\n",
    "    \n",
    "    if check_nulls:\n",
    "        df = pd.concat([x, y, w], axis = 1)\n",
    "        null_cols  = df.isnull().any(axis = 1)\n",
    "    \n",
    "        if null_cols.any():\n",
    "            x = x[~null_cols]\n",
    "            y = y[~null_cols]\n",
    "            w = w[~null_cols]\n",
    "\n",
    "    return cov(x,y,w)/np.sqrt(cov(x,x,w)*cov(y,y,w))\n",
    "\n"
   ]
  },
  {
   "cell_type": "code",
   "execution_count": null,
   "metadata": {
    "collapsed": false,
    "deletable": true,
    "editable": true
   },
   "outputs": [],
   "source": [
    "def df_corr(xs, ys, w=None, method=corr, min_periods=1):\n",
    "        \"\"\"\n",
    "        Compute pairwise correlation of columns, excluding NA/null values\n",
    "        Parameters\n",
    "        ----------\n",
    "        min_periods : int, optional\n",
    "            Minimum number of observations required per pair of columns\n",
    "            to have a valid result. \n",
    "        Returns\n",
    "        -------\n",
    "        y : DataFrame\n",
    "        \n",
    "        Modified from pandas:\n",
    "            https://github.com/pandas-dev/pandas/blob/v0.20.2/pandas/core/frame.py#L4817-L4871\n",
    "        \"\"\"\n",
    "        if isinstance(xs, pd.Series):\n",
    "            xs = pd.DataFrame(xs)\n",
    "            \n",
    "        rows = xs.columns\n",
    "       \n",
    "        if isinstance(ys, pd.Series):\n",
    "            ys = pd.DataFrame(ys)\n",
    "            \n",
    "        cols = ys.columns\n",
    "            \n",
    "        xmat = xs.values.T\n",
    "        ymat = ys.values.T\n",
    "\n",
    "        if min_periods is None:\n",
    "            min_periods = 1\n",
    "        #mat = _ensure_float64(mat).T\n",
    "        corrf = method\n",
    "        K = len(rows)\n",
    "        M = len(cols)\n",
    "        correl = np.empty((K, M), dtype=float)\n",
    "        xmask = np.isfinite(xmat)\n",
    "        ymask = np.isfinite(ymat)\n",
    "        for i, ac in enumerate(xmat):\n",
    "            for j, bc in enumerate(ymat):\n",
    "                valid = xmask[i] & ymask[j]\n",
    "                \n",
    "                if valid.sum() < min_periods:\n",
    "                    c = NA\n",
    "                elif not valid.all():\n",
    "                    c = corrf(ac[valid], bc[valid], w[valid])\n",
    "                else:\n",
    "                    c = corrf(ac, bc, w)\n",
    "                correl[i, j] = c\n",
    "\n",
    "        return pd.DataFrame(correl, index=rows, columns=cols)"
   ]
  },
  {
   "cell_type": "code",
   "execution_count": null,
   "metadata": {
    "collapsed": false,
    "deletable": true,
    "editable": true
   },
   "outputs": [],
   "source": [
    "w = data.ix[:,1]\n",
    "xs = data.ix[:,2:27]\n",
    "ys = data.ix[:,27:-1]\n",
    "crs = df_corr(xs,ys,w)\n",
    "sns.heatmap(crs)"
   ]
  },
  {
   "cell_type": "code",
   "execution_count": null,
   "metadata": {
    "collapsed": false,
    "deletable": true,
    "editable": true
   },
   "outputs": [],
   "source": [
    "crs"
   ]
  },
  {
   "cell_type": "code",
   "execution_count": null,
   "metadata": {
    "collapsed": false,
    "deletable": true,
    "editable": true
   },
   "outputs": [],
   "source": [
    "def ordered_corrs(xs, y, w):\n",
    "    '''\n",
    "    '''\n",
    "    crs = df_corr(xs,y,w)\n",
    "    return crs.reindex(crs.ix[:,0].abs().sort_values(ascending=False).index).ix[:,0]\n",
    "\n",
    "def ordered_heatmap(crs):\n",
    "    pl.figure()\n",
    "    sns.heatmap(pd.DataFrame(crs), vmin = -.8, vmax = .8)\n",
    "    pl.show()"
   ]
  },
  {
   "cell_type": "code",
   "execution_count": null,
   "metadata": {
    "collapsed": false,
    "deletable": true,
    "editable": true
   },
   "outputs": [],
   "source": [
    "for y in ys:\n",
    "    ordered_heatmap(ordered_corrs(xs,ys[y], w))\n"
   ]
  },
  {
   "cell_type": "code",
   "execution_count": null,
   "metadata": {
    "collapsed": true,
    "deletable": true,
    "editable": true
   },
   "outputs": [],
   "source": [
    "from sklearn import linear_model\n",
    "import statsmodels.formula.api as smf"
   ]
  },
  {
   "cell_type": "code",
   "execution_count": null,
   "metadata": {
    "collapsed": false,
    "deletable": true,
    "editable": true
   },
   "outputs": [],
   "source": [
    "def drop_nan(X,y, sample_weight=None, drop_threshold = .1, verbose = False):\n",
    "    '''\n",
    "    \n",
    "    drop_threshold: float (between 0 and 1)\n",
    "        When the proportion of nans in a column is above threshold, drop the column\n",
    "    '''\n",
    "    \n",
    "    # Drop all data without an outcome measure\n",
    "    valid_y = np.isfinite(y) \n",
    "    if verbose:\n",
    "        dropped = valid_y.count() - valid_y.sum()\n",
    "        print(\"Dropped {} rows with nan in outcome variable y\\n\".format(dropped))\n",
    "    X = X[valid_y]\n",
    "    y = y[valid_y]\n",
    "    \n",
    "    \n",
    "    # Drop columns where the proportion of nans is above the drop_threshold\n",
    "    drop_columns = X.isnull().sum() / X.shape[0] > drop_threshold\n",
    "    if verbose:\n",
    "        dropped = X.columns[drop_columns]\n",
    "        message = \"Dropped columns: \"\n",
    "        for d in dropped:\n",
    "            message += d + \"\\n\"\n",
    "        print(message)      \n",
    "    passable_columns = X.columns[~drop_columns]\n",
    "    X = X[passable_columns]\n",
    "    \n",
    "    \n",
    "    # Drop rows where we find NaNs in the Xs.\n",
    "    xmask = np.isfinite(X)\n",
    "    valid_X = xmask.all(axis=1)\n",
    "    if verbose:\n",
    "        dropped = valid_X.count() - valid_X.sum()\n",
    "        print(\"Dropped {} rows with nans in X\".format(dropped))\n",
    "    X = X[valid_X]\n",
    "    y = y[valid_X]\n",
    "    \n",
    "    if sample_weight is not None:\n",
    "        sample_weight = sample_weight[valid_y][valid_X]\n",
    "        return X, y, sample_weight\n",
    "    \n",
    "    return X, y"
   ]
  },
  {
   "cell_type": "code",
   "execution_count": null,
   "metadata": {
    "collapsed": false,
    "deletable": true,
    "editable": true
   },
   "outputs": [],
   "source": [
    "X = xs\n",
    "\n",
    "for n in range(ys.shape[1]):\n",
    "    y = ys.ix[:,n]\n",
    "    a,b,wgt = drop_nan(X,y, sample_weight=w)\n",
    "    lm = linear_model.LinearRegression()\n",
    "    model = lm.fit(a,b, sample_weight=wgt)\n",
    "    score = lm.score(a,b, sample_weight=wgt)\n",
    "    print(\"R^2 for {var}: {score}\".format(var=ys.columns[n], score=score))"
   ]
  },
  {
   "cell_type": "code",
   "execution_count": null,
   "metadata": {
    "collapsed": false,
    "deletable": true,
    "editable": true
   },
   "outputs": [],
   "source": [
    "coef= pd.DataFrame(model.coef_, index = a.columns, columns = [b.name])\n",
    "coef.sort_values(b.name)"
   ]
  },
  {
   "cell_type": "code",
   "execution_count": null,
   "metadata": {
    "collapsed": false,
    "deletable": true,
    "editable": true
   },
   "outputs": [],
   "source": [
    "def ols(X,y, drop_threshold = .1, verbose = False):\n",
    "    X,y = drop_nan(X,y, verbose=True)\n",
    "    lm = linear_model.LinearRegression()\n",
    "    model = lm.fit(X,y)\n",
    "    coef= pd.DataFrame(model.coef_, index = a.columns, columns = [b.name])\n",
    "    return coef.sort_values(b.name)\n",
    "\n",
    "# next steps do we "
   ]
  },
  {
   "cell_type": "code",
   "execution_count": null,
   "metadata": {
    "collapsed": false,
    "deletable": true,
    "editable": true
   },
   "outputs": [],
   "source": [
    "a = np.array([[1,1,1,0,0,0],[0,0,0,1,1,1]]).T\n",
    "b = np.array([.3, .4, .8, .1, .2, .4])\n",
    "\n"
   ]
  },
  {
   "cell_type": "code",
   "execution_count": null,
   "metadata": {
    "collapsed": false,
    "deletable": true,
    "editable": true
   },
   "outputs": [],
   "source": [
    "lm = linear_model.LinearRegression()\n",
    "model = lm.fit(a,b)"
   ]
  },
  {
   "cell_type": "code",
   "execution_count": null,
   "metadata": {
    "collapsed": false,
    "deletable": true,
    "editable": true
   },
   "outputs": [],
   "source": [
    "model.__dict__"
   ]
  },
  {
   "cell_type": "code",
   "execution_count": null,
   "metadata": {
    "collapsed": true,
    "deletable": true,
    "editable": true
   },
   "outputs": [],
   "source": [
    "import statsmodels\n",
    "data = pd.read_excel('HealthViz County Dataset',skiprows=0, header=1, index_col=0)\n",
    "data.index.name=None"
   ]
  },
  {
   "cell_type": "code",
   "execution_count": null,
   "metadata": {
    "collapsed": false,
    "deletable": true,
    "editable": true
   },
   "outputs": [],
   "source": [
    "results = sm.OLS(a, b).fit()\n"
   ]
  },
  {
   "cell_type": "code",
   "execution_count": null,
   "metadata": {
    "collapsed": true,
    "deletable": true,
    "editable": true
   },
   "outputs": [],
   "source": []
  },
   {
   "cell_type": "code",
   "execution_count": 398,
   "metadata": {
    "collapsed": false,
    "deletable": true,
    "editable": true
   },
   "outputs": [],
   "source": [
    "weights = df['Population (residents), 2011-2015']\n",
    "\n",
    "y = df['Diabetes mortality (deaths per 100,000), 2008-2014']\n",
    "\n",
    "#var = ['Election margin, winner (Presidential) (% margin), 2016']\n",
    "controls = ['Population, Non-Hispanic Black (residents), 2011-2015',\n",
    "'Population, Hispanic or Latino (residents), 2011-2015',\n",
    "'Population, Asian or Pacific Islander (residents), 2011-2015',\n",
    "'Median age, 2011-2015',\n",
    "'Median household income, 2011-2015',\n",
    "'Poverty rate (% of residents), 2011-2015',\n",
    "'Share of income, top 5% (% of total income), 2011-2015',\n",
    "'Dual eligible coverage (% of residents), 2010-2014',\n",
    "'College graduation rate (% of residents), 2011-2015',\n",
    "'Graduate education rate (% of residents), 2011-2015',\n",
    "'Food stamps (SNAP) (% of households), 2011-2015']\n",
    "\n",
    "\n",
    "#X = df[var + controls]\n",
    "\n",
    "data_var = 'Readmission rate (Medicare) (% of hospital admissions), 2015'\n",
    "X = pd.merge(pd.DataFrame(data[data_var]), df[controls],right_index=True, left_index=True )\n",
    "\n",
    "X,y,w = drop_nan(X,y, weights, verbose = True)"
   ]
  },
  {
   "cell_type": "code",
   "execution_count": 398,
   "metadata": {
    "collapsed": false,
    "deletable": true,
    "editable": true
   },
   "outputs": [],
    "source": [
    "X_1 = sm.add_constant(X)\n",
    "model = sm.OLS(y,X_1)\n",
    "model2 = sm.WLS(y,X_1,weights=w)\n",
    "model.fit().summary()\n",
    "#model2.fit().summary()\n",
    "results = model.fit()\n",
    "betas = results.params.ix['Readmission rate (Medicare) (% of hospital admissions), 2015'])\n",
    "hetero_se = results.HC0_se.ix['Readmission rate (Medicare) (% of hospital admissions), 2015']"
   ]
  }
 ],
 "metadata": {
  "kernelspec": {
   "display_name": "Python 3",
   "language": "python",
   "name": "python3"
  },
  "language_info": {
   "codemirror_mode": {
    "name": "ipython",
    "version": 3
   },
   "file_extension": ".py",
   "mimetype": "text/x-python",
   "name": "python",
   "nbconvert_exporter": "python",
   "pygments_lexer": "ipython3",
   "version": "3.6.1"
  }
 },
 "nbformat": 4,
 "nbformat_minor": 2
}
