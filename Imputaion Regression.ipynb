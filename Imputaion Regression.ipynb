{
 "cells": [
  {
   "cell_type": "code",
   "execution_count": 26,
   "metadata": {
    "collapsed": true
   },
   "outputs": [],
   "source": [
    "import pandas as pd\n",
    "import numpy as np\n",
    "from sklearn import linear_model\n",
    "%matplotlib inline"
   ]
  },
  {
   "cell_type": "code",
   "execution_count": 27,
   "metadata": {
    "collapsed": true
   },
   "outputs": [],
   "source": [
    "data = pd.read_excel('HealthViz County Dataset 6.19.17.xlsx',skiprows=0, header=1, index_col=0)\n",
    "data.index.name=None\n",
    "#wgt = np.array(data['Population (residents), 2011-2015'])\n",
    "data.drop(data.columns[[0,1]], axis=1, inplace=True)"
   ]
  },
  {
   "cell_type": "code",
   "execution_count": 28,
   "metadata": {
    "collapsed": true
   },
   "outputs": [],
   "source": [
    "#import pandas as pd\n",
    "#df = pd.read_csv('HealthViz County Dataset 6 21 17.csv', skiprows=0, header=1, index_col=0,encoding = \"ISO-8859-1\")\n",
    "#df.index.name=None"
   ]
  },
  {
   "cell_type": "code",
   "execution_count": 29,
   "metadata": {},
   "outputs": [
    {
     "data": {
      "text/plain": [
       "Median household income, 2011-2015                                                         3\n",
       "Per capita income, 2011-2015                                                               2\n",
       "Gini index of income inequality, 2015                                                   2390\n",
       "Food stamps (SNAP) (% of households), 2011-2015                                            2\n",
       "Poverty rate (% of residents), 2011-2015                                                   2\n",
       "Median property tax ($), 2011-2015                                                        36\n",
       "Rent-burdened (% of renter-occupied housing units), 2011-2015                              2\n",
       "Median gross rent, 2011-2015                                                               3\n",
       "Median home value, 2011-2015                                                               4\n",
       "Occupied (% of housing units), 2011-2015                                                   2\n",
       "Medicare flu vaccination rate (% of beneficiaries), 2015                                   0\n",
       "Race-Ethnicity Diversity Index, 2011-2015                                                  0\n",
       "Median age, 2011-2015                                                                      0\n",
       "Married, Females (% of women ages 15-50), 2010-2014                                        0\n",
       "Birth rate, Females (births per 1,000 women ages 15-50), 2011-2015                         0\n",
       "Teen birth rate, Females, Juveniles (5-17 years) (Births per 1,000 women), 2011-2015       0\n",
       "High school graduation rate (% of residents), 2011-2015                                    0\n",
       "Any higher education rate (% of residents), 2011-2015                                      0\n",
       "College graduation rate (% of residents), 2011-2015                                        0\n",
       "Unemployment rate (%), 2011-2015                                                           0\n",
       "Dual eligible coverage (% of residents), 2010-2014                                         0\n",
       "Medicaid coverage (% of residents), 2010-2014                                              0\n",
       "Medicare coverage (% of residents), 2010-2014                                              0\n",
       "Private health insurance (% of residents), 2010-2014                                       0\n",
       "Uninsured rate (% of residents), 2011-2015                                                 0\n",
       "Medicare Advantage participation rate (% of beneficiaries), 2015                          79\n",
       "Medicare FFS per capita costs ($ per beneficiary), 2015                                   89\n",
       "Medicare emergency department visit rate (visits per 1,000 beneficiaries), 2015           89\n",
       "Readmission rate (Medicare) (% of hospital admissions), 2015                              79\n",
       "Medicare inpatient utilization (% of beneficiaries), 2015                                 79\n",
       "Current cigarette smoking (% of adults), 2006-2012                                        78\n",
       "Diagnosed diabetes (% of adults), 2006-2012                                              714\n",
       "High blood pressure (% of adults), 2006-2012                                             630\n",
       "Obesity (% of adults), 2006-2012                                                         338\n",
       "Mortality rate, all causes (deaths per 100,000), 2008-2014                                90\n",
       "Diabetes mortality (deaths per 100,000), 2008-2014                                        87\n",
       "Influenza and pneumonia mortality (deaths per 100,000), 2008-2014                         87\n",
       "Septicemia (sepsis) mortality (deaths per 100,000), 2008-2014                             87\n",
       "Years of potential life lost (YPLL) (life-years lost per 100,000), 2012-2014             148\n",
       "dtype: int64"
      ]
     },
     "execution_count": 29,
     "metadata": {},
     "output_type": "execute_result"
    }
   ],
   "source": [
    "data.isnull().sum()"
   ]
  },
  {
   "cell_type": "code",
   "execution_count": 30,
   "metadata": {
    "collapsed": true
   },
   "outputs": [],
   "source": [
    "# Using linear regression to fill out the missing values in certain columns based on the rest of columns which have\n",
    "# the full values. The fullfilled colunms will be considered as columns with full values to make prediction in the \n",
    "# later run.\n",
    "\n",
    "# Step 0: Have the original dataset\n",
    "# Step 1: Get the dataframe with all the columns with full values (Xs) and the colume with least missing value (Y)\n",
    "# Step 2: Split the dataframe into trainning (Xs and Y with values) and predict datasets (Xs and Y with missing values)\n",
    "# Step 3: Run the regression with the trainning set and get the predictions for the missing Y values in the predict set\n",
    "# Step 4: The new dataframe has been created with the fullfillment of the Y\n",
    "# Step 5: Merge the new dataframe with the other potential Ys to replace the orginal dataset to iterate the above steps\n",
    "# until all the Ys have been fullfilled\n",
    "\n",
    "def preprocess_df(data):\n",
    "    '''\n",
    "    Given a (controlled variables) dataframe, output a dataframe with the full-value columns (Xs) and the column with\\\n",
    "    least missing values (Y)\n",
    "    \n",
    "        data: dataframe to be dealt with\n",
    "        Return: dataframe with only used Xs, full dataframe with used Xs and the Y, dataframe with the other Ys\n",
    "    '''\n",
    "    df_xs = data.dropna(axis=1, how='any')\n",
    "    l_ys = data.columns[data.isnull().any()].tolist()\n",
    "    len_l_ys = len(l_ys)\n",
    "    i_min = 0\n",
    "    df_y = pd.DataFrame(data[l_ys[i_min]])\n",
    "    n_min = df_y.isnull().values.ravel().sum()\n",
    "    for i in range(1, len_l_ys):\n",
    "        df_y = pd.DataFrame(data[l_ys[i]])\n",
    "        n = df_y.isnull().values.ravel().sum()\n",
    "        if n < n_min:\n",
    "            n_min = n\n",
    "            i_min = i\n",
    "    label_y = l_ys[i_min]\n",
    "    df_y = pd.DataFrame(data[l_ys[i_min]])\n",
    "    df = pd.merge(df_y, df_xs, right_index=True, left_index=True)\n",
    "    df_ys = data[data.columns[data.isnull().any()]].drop(label_y, 1)\n",
    "    return df_xs, df_ys, df\n",
    "\n",
    "\n",
    "def train_predict_split(df):\n",
    "    '''\n",
    "    Given the full dataset, split it into train and predict datasets based on the missing value of the Y\n",
    "    The first column of the dataset is the Y\n",
    "    '''\n",
    "    labels = list(df.columns)\n",
    "    mask = df[labels[0]].isnull()\n",
    "    df_predict = df[mask]\n",
    "    df_train = df[~mask]\n",
    "    y_train = df_train.ix[:, 0:1]\n",
    "    x_train = df_train.ix[:, 1:]\n",
    "    x_predict = df_predict.ix[:, 1:]\n",
    "    y_predict = df_predict.ix[:, 0:1]\n",
    "    return x_train, y_train, x_predict, df_predict, df_train\n",
    "    \n",
    "def new_predict_df(x_train, y_train, x_predict, df_predict, df_train):\n",
    "    '''\n",
    "    Filling the missing values and return a new Xs and the Y dataframe\n",
    "    '''\n",
    "    lm = linear_model.LinearRegression()\n",
    "    model = lm.fit(x_train,y_train)\n",
    "    y_pred = lm.predict(x_predict)\n",
    "    l = []\n",
    "    d = {}\n",
    "    for i in y_pred.tolist():\n",
    "        l = l + i\n",
    "    se = pd.Series(l)\n",
    "    df_predict['prediction'] = se.values\n",
    "    df_predict[y_train.columns.tolist()[0]].fillna(value=df_predict['prediction'], inplace=True)\n",
    "    df_predict = df_predict.drop('prediction', 1)\n",
    "    df = df_train.append(df_predict)\n",
    "    return df\n",
    "\n",
    "def get_new(df):\n",
    "    '''\n",
    "    Given a data set, get the new precit data set with the predict values\n",
    "    '''\n",
    "    x_train, y_train, x_predict, df_predict, df_train = train_predict_split(df)\n",
    "    df_new = new_predict_df(x_train, y_train, x_predict, df_predict, df_train)\n",
    "    return df_new"
   ]
  },
  {
   "cell_type": "code",
   "execution_count": 31,
   "metadata": {},
   "outputs": [
    {
     "name": "stderr",
     "output_type": "stream",
     "text": [
      "/Users/admin/anaconda/lib/python3.6/site-packages/ipykernel_launcher.py:49: DeprecationWarning: \n",
      ".ix is deprecated. Please use\n",
      ".loc for label based indexing or\n",
      ".iloc for positional indexing\n",
      "\n",
      "See the documentation here:\n",
      "http://pandas.pydata.org/pandas-docs/stable/indexing.html#deprecate_ix\n",
      "/Users/admin/anaconda/lib/python3.6/site-packages/ipykernel_launcher.py:51: DeprecationWarning: \n",
      ".ix is deprecated. Please use\n",
      ".loc for label based indexing or\n",
      ".iloc for positional indexing\n",
      "\n",
      "See the documentation here:\n",
      "http://pandas.pydata.org/pandas-docs/stable/indexing.html#deprecate_ix\n",
      "/Users/admin/anaconda/lib/python3.6/site-packages/ipykernel_launcher.py:67: SettingWithCopyWarning: \n",
      "A value is trying to be set on a copy of a slice from a DataFrame.\n",
      "Try using .loc[row_indexer,col_indexer] = value instead\n",
      "\n",
      "See the caveats in the documentation: http://pandas.pydata.org/pandas-docs/stable/indexing.html#indexing-view-versus-copy\n",
      "/Users/admin/anaconda/lib/python3.6/site-packages/pandas/core/generic.py:3549: SettingWithCopyWarning: \n",
      "A value is trying to be set on a copy of a slice from a DataFrame\n",
      "\n",
      "See the caveats in the documentation: http://pandas.pydata.org/pandas-docs/stable/indexing.html#indexing-view-versus-copy\n",
      "  self._update_inplace(new_data)\n"
     ]
    }
   ],
   "source": [
    "num_null = len(data.columns[data.isnull().any()].tolist())\n",
    "for i in range(0, num_null):\n",
    "    df_xs, df_ys, df = preprocess_df(data)\n",
    "    df_new = get_new(df)\n",
    "    data = pd.merge(df_ys, df_new, right_index=True, left_index=True)    "
   ]
  },
  {
   "cell_type": "code",
   "execution_count": 32,
   "metadata": {},
   "outputs": [
    {
     "data": {
      "text/plain": [
       "Gini index of income inequality, 2015                                                   0\n",
       "Diagnosed diabetes (% of adults), 2006-2012                                             0\n",
       "High blood pressure (% of adults), 2006-2012                                            0\n",
       "Obesity (% of adults), 2006-2012                                                        0\n",
       "Years of potential life lost (YPLL) (life-years lost per 100,000), 2012-2014            0\n",
       "Mortality rate, all causes (deaths per 100,000), 2008-2014                              0\n",
       "Medicare emergency department visit rate (visits per 1,000 beneficiaries), 2015         0\n",
       "Medicare FFS per capita costs ($ per beneficiary), 2015                                 0\n",
       "Septicemia (sepsis) mortality (deaths per 100,000), 2008-2014                           0\n",
       "Influenza and pneumonia mortality (deaths per 100,000), 2008-2014                       0\n",
       "Diabetes mortality (deaths per 100,000), 2008-2014                                      0\n",
       "Medicare inpatient utilization (% of beneficiaries), 2015                               0\n",
       "Readmission rate (Medicare) (% of hospital admissions), 2015                            0\n",
       "Medicare Advantage participation rate (% of beneficiaries), 2015                        0\n",
       "Current cigarette smoking (% of adults), 2006-2012                                      0\n",
       "Median property tax ($), 2011-2015                                                      0\n",
       "Median home value, 2011-2015                                                            0\n",
       "Median gross rent, 2011-2015                                                            0\n",
       "Median household income, 2011-2015                                                      0\n",
       "Occupied (% of housing units), 2011-2015                                                0\n",
       "Rent-burdened (% of renter-occupied housing units), 2011-2015                           0\n",
       "Poverty rate (% of residents), 2011-2015                                                0\n",
       "Food stamps (SNAP) (% of households), 2011-2015                                         0\n",
       "Per capita income, 2011-2015                                                            0\n",
       "Medicare flu vaccination rate (% of beneficiaries), 2015                                0\n",
       "Race-Ethnicity Diversity Index, 2011-2015                                               0\n",
       "Median age, 2011-2015                                                                   0\n",
       "Married, Females (% of women ages 15-50), 2010-2014                                     0\n",
       "Birth rate, Females (births per 1,000 women ages 15-50), 2011-2015                      0\n",
       "Teen birth rate, Females, Juveniles (5-17 years) (Births per 1,000 women), 2011-2015    0\n",
       "High school graduation rate (% of residents), 2011-2015                                 0\n",
       "Any higher education rate (% of residents), 2011-2015                                   0\n",
       "College graduation rate (% of residents), 2011-2015                                     0\n",
       "Unemployment rate (%), 2011-2015                                                        0\n",
       "Dual eligible coverage (% of residents), 2010-2014                                      0\n",
       "Medicaid coverage (% of residents), 2010-2014                                           0\n",
       "Medicare coverage (% of residents), 2010-2014                                           0\n",
       "Private health insurance (% of residents), 2010-2014                                    0\n",
       "Uninsured rate (% of residents), 2011-2015                                              0\n",
       "dtype: int64"
      ]
     },
     "execution_count": 32,
     "metadata": {},
     "output_type": "execute_result"
    }
   ],
   "source": [
    "data.isnull().sum()"
   ]
  },
  {
   "cell_type": "code",
   "execution_count": null,
   "metadata": {
    "collapsed": true
   },
   "outputs": [],
   "source": []
  }
 ],
 "metadata": {
  "kernelspec": {
   "display_name": "Python 3",
   "language": "python",
   "name": "python3"
  },
  "language_info": {
   "codemirror_mode": {
    "name": "ipython",
    "version": 3
   },
   "file_extension": ".py",
   "mimetype": "text/x-python",
   "name": "python",
   "nbconvert_exporter": "python",
   "pygments_lexer": "ipython3",
   "version": "3.6.1"
  }
 },
 "nbformat": 4,
 "nbformat_minor": 2
}
