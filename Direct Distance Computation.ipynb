{
 "cells": [
  {
   "cell_type": "code",
   "execution_count": 13,
   "metadata": {
    "collapsed": true
   },
   "outputs": [],
   "source": [
    "import pandas as pd\n",
    "import numpy as np"
   ]
  },
  {
   "cell_type": "code",
   "execution_count": 14,
   "metadata": {},
   "outputs": [],
   "source": [
    "df = pd.read_csv('HealthViz County Dataset 6 21 17.csv', skiprows=0, header=1, index_col=0, encoding = \"ISO-8859-1\")\n",
    "df.index.name=None\n",
    "#data = pd.read_excel('HealthViz County Dataset 6.19.17.xlsx',skiprows=0, header=1, index_col=0)\n",
    "#data.index.name=None\n",
    "#data.drop(data.columns[[0,1]], axis=1, inplace=True)\n",
    "\n",
    "df.dropna(axis=0, how='any', inplace=True)\n",
    "df.drop(df.columns[[0]], axis=1, inplace=True) #drop 'County'"
   ]
  },
  {
   "cell_type": "code",
   "execution_count": 15,
   "metadata": {
    "collapsed": true
   },
   "outputs": [],
   "source": [
    "### Direct Distance Computation ###\n",
    "# Step 1: get log values for $ related variabes, normalize/whiten the dataframe, determine the target place (represented in GEOID, int)\n",
    "# Step 2: Get the Euclidean distance of values between each place and the target one for each row in dataframe\n",
    "# Step 3: Sort the dataframe based on the arising order of the distance\n",
    "# Step 4: Get the list of top N similar places\n",
    "\n",
    "from scipy.cluster.vq import whiten\n",
    "\n",
    "# Used only for this case, assuming the dataframe passed to the distance/clustering has no null values\n",
    "def drop_null(df):\n",
    "    '''\n",
    "    Drop the columns and rows with any null value\n",
    "    '''\n",
    "    \n",
    "    #df.dropna(axis=1, how='any', inplace=True)\n",
    "    df.dropna(axis=0, how='any', inplace=True)\n",
    "    return df\n",
    "    \n",
    "def get_log(df, l):\n",
    "    '''\n",
    "    Get the log values of certain dollar related variables, with the input of a list of variable names\n",
    "        l: a list of strings (variable name)\n",
    "    '''\n",
    "    for i in l:\n",
    "        data = df[[i]]\n",
    "        array = np.log(data.values)\n",
    "        data = pd.DataFrame(array, columns=data.columns, index=data.index)\n",
    "        df[i] = data[i]\n",
    "    return df\n",
    "       \n",
    "def normalize_df(df):\n",
    "    '''\n",
    "    Normalize/whiten the dataframe\n",
    "    '''\n",
    "    df = pd.DataFrame(whiten(df), columns=df.columns, index=df.index)\n",
    "    return df\n",
    "\n",
    "# def pre_prpcess_df\n",
    "# dealing with null values, get log values and do the normalization\n",
    "\n",
    "def get_distance(df, GEOID_target, GEOID):\n",
    "    '''\n",
    "    Get the Euclidean distance between two sets of values\n",
    "        GEOID_target, GEOID: index, int\n",
    "    '''\n",
    "    a = df.loc[[GEOID_target]].values # df.values\n",
    "    b = df.loc[[GEOID]].values\n",
    "    dist = np.linalg.norm(a-b)\n",
    "    return dist\n",
    "\n",
    "def  get_top_n_similar(df, l, GEOID_target, n):\n",
    "    '''\n",
    "    Get the N places which are similar to the target place\n",
    "        data: dataframe\n",
    "        l: a list of string(s), for get_log function\n",
    "        GEOID_target: index, int\n",
    "        n: int\n",
    "    '''\n",
    "    #df = drop_null(data)\n",
    "    df = get_log(df, l)\n",
    "    df = normalize_df(df)\n",
    "    df['distance'] = df.apply(lambda x: get_distance(df, GEOID_target, x.name), axis=1)\n",
    "    df = df.sort_values('distance', ascending=True)\n",
    "    index_list = df.head(n+1).index.tolist()[1:]\n",
    "    return index_list"
   ]
  },
  {
   "cell_type": "code",
   "execution_count": 16,
   "metadata": {},
   "outputs": [
    {
     "data": {
      "text/plain": [
       "[40147, 51165, 31185]"
      ]
     },
     "execution_count": 16,
     "metadata": {},
     "output_type": "execute_result"
    }
   ],
   "source": [
    "get_top_n_similar(df, ['Median household income, 2011-2015'], 1003, 3)"
   ]
  },
  {
   "cell_type": "code",
   "execution_count": null,
   "metadata": {
    "collapsed": true
   },
   "outputs": [],
   "source": []
  }
 ],
 "metadata": {
  "kernelspec": {
   "display_name": "Python 3",
   "language": "python",
   "name": "python3"
  },
  "language_info": {
   "codemirror_mode": {
    "name": "ipython",
    "version": 3
   },
   "file_extension": ".py",
   "mimetype": "text/x-python",
   "name": "python",
   "nbconvert_exporter": "python",
   "pygments_lexer": "ipython3",
   "version": "3.6.1"
  }
 },
 "nbformat": 4,
 "nbformat_minor": 2
}
