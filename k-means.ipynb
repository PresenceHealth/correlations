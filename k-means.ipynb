{
 "cells": [
  {
   "cell_type": "code",
   "execution_count": 46,
   "metadata": {
    "collapsed": true
   },
   "outputs": [],
   "source": [
    "import pandas as pd\n",
    "import numpy as np\n",
    "from scipy.cluster.vq import kmeans,vq,whiten"
   ]
  },
  {
   "cell_type": "code",
   "execution_count": 47,
   "metadata": {
    "collapsed": true
   },
   "outputs": [],
   "source": [
    "df = pd.read_csv('HealthViz County Dataset 6 21 17.csv', skiprows=0, header=1, index_col=0, encoding = \"ISO-8859-1\")\n",
    "df.index.name=None"
   ]
  },
  {
   "cell_type": "code",
   "execution_count": 48,
   "metadata": {
    "collapsed": true
   },
   "outputs": [],
   "source": [
    "df.dropna(axis=0, how='any', inplace=True)\n",
    "df.drop(df.columns[[0]], axis=1, inplace=True) #drop 'County'"
   ]
  },
  {
   "cell_type": "code",
   "execution_count": 49,
   "metadata": {
    "collapsed": true
   },
   "outputs": [],
   "source": [
    "def split_df(df, num, col_population):\n",
    "    '''\n",
    "    Split dataframe into desired number of groups based on the population\n",
    "        num: int\n",
    "        col_population: string, e.g 'Population (residents), 2011-2015'\n",
    "        \n",
    "        return: a list of sub dataframes\n",
    "    '''\n",
    "    rows, cols = df.shape\n",
    "    size = int(round(rows/num, 0))\n",
    "    df = df.sort_values(col_population, ascending=True)\n",
    "    l = []\n",
    "    for g, df in df.groupby(np.arange(len(df)) // size):\n",
    "        l = l + [df]\n",
    "    if len(l) > num:\n",
    "        df1 = l[-1]\n",
    "        df2 = l[-2]\n",
    "        df3 = df2.append(df1)\n",
    "        l = l[: -2]\n",
    "        l = l + [df3]\n",
    "    return l\n"
   ]
  },
  {
   "cell_type": "code",
   "execution_count": 50,
   "metadata": {},
   "outputs": [
    {
     "name": "stdout",
     "output_type": "stream",
     "text": [
      "(248, 17)\n",
      "(248, 17)\n",
      "(248, 17)\n",
      "(248, 17)\n",
      "(248, 17)\n",
      "(248, 17)\n",
      "(248, 17)\n",
      "(248, 17)\n",
      "(248, 17)\n",
      "(250, 17)\n"
     ]
    }
   ],
   "source": [
    "# for check\n",
    "l = split_df(df, 10, 'Population (residents), 2011-2015')\n",
    "for i in l:\n",
    "    print(i.shape)"
   ]
  },
  {
   "cell_type": "code",
   "execution_count": 51,
   "metadata": {
    "collapsed": true
   },
   "outputs": [],
   "source": [
    "# elbow effect to choose K in K-means\n",
    "# sum of squared error (SSE): sum of the squared distance between each member of the cluster and its centroid\n",
    "\n",
    "# Get K function\n",
    "def get_k(df, size):\n",
    "    '''\n",
    "    Using the size of each cluster to determine the number of clusters, which is K\n",
    "        size: int\n",
    "    '''\n",
    "    rows, cols = df.shape\n",
    "    k = int(round(rows/size, 0))\n",
    "    return k\n",
    "\n",
    "\n",
    "from scipy.cluster.vq import kmeans,vq,whiten\n",
    "from scipy.spatial.distance import cdist\n",
    "import matplotlib.pyplot as plt\n",
    "\n",
    "def check_k(df, k, graph_range):\n",
    "    '''\n",
    "    range(1, 100)\n",
    "    '''\n",
    "    a,b = graph_range\n",
    "    K = range(a,b)\n",
    "    X = whiten(df)\n",
    "    KM = [kmeans(X,k) for k in K]\n",
    "    centroids = [cent for (cent,var) in KM]\n",
    "    D_k = [cdist(X, cent, 'euclidean') for cent in centroids]\n",
    "    #cIdx = [np.argmin(D,axis=1) for D in D_k]\n",
    "    dist = [np.min(D,axis=1) for D in D_k]\n",
    "    avgWithinSS = [sum(d)/X.shape[0] for d in dist]\n",
    "    l = []\n",
    "    for i in range(a-1, b-2):\n",
    "        rate = abs(avgWithinSS[i+1] - avgWithinSS[i])/avgWithinSS[i]\n",
    "        l = l + [rate]\n",
    "    k_changing_rate = l[k-2]\n",
    "    \n",
    "    kIdx = k-1\n",
    "    fig = plt.figure()\n",
    "    ax = fig.add_subplot(111)\n",
    "    ax.plot(K, avgWithinSS, 'b*-')\n",
    "    ax.plot(K[kIdx], avgWithinSS[kIdx], marker='o', markersize=12, \n",
    "        markeredgewidth=2, markeredgecolor='r', markerfacecolor='None') #K[kIdx] [kIdx]\n",
    "    plt.grid(True)\n",
    "    plt.xlabel('Number of clusters')\n",
    "    plt.ylabel('Average within-cluster sum of squares')\n",
    "    plt.title('Elbow for KMeans clustering')\n",
    "    plt.show()\n",
    "    \n",
    "    return k_changing_rate"
   ]
  },
  {
   "cell_type": "code",
   "execution_count": 52,
   "metadata": {},
   "outputs": [
    {
     "data": {
      "image/png": "[encoded data removed]",
      "text/plain": [
       "<matplotlib.figure.Figure at 0x11aa79da0>"
      ]
     },
     "metadata": {},
     "output_type": "display_data"
    },
    {
     "data": {
      "text/plain": [
       "0.01451624959654485"
      ]
     },
     "execution_count": 52,
     "metadata": {},
     "output_type": "execute_result"
    }
   ],
   "source": [
    "df1 = l[0]\n",
    "k = get_k(df1, 20)\n",
    "graph_range = (1,100)\n",
    "check_k(df1, k, graph_range)"
   ]
  },
  {
   "cell_type": "code",
   "execution_count": 53,
   "metadata": {},
   "outputs": [],
   "source": [
    "# get the clustering table\n",
    "from sklearn.cluster import KMeans\n",
    "import numpy as np\n",
    "def get_k_means(df,k):\n",
    "    X = whiten(df)\n",
    "    kmeans = KMeans(n_clusters=k, random_state=0).fit(X)\n",
    "    df['label'] = kmeans.labels_.tolist()\n",
    "    return df"
   ]
  },
  {
   "cell_type": "code",
   "execution_count": 54,
   "metadata": {},
   "outputs": [],
   "source": [
    "ddf = get_k_means(df1, k)"
   ]
  },
  {
   "cell_type": "code",
   "execution_count": 55,
   "metadata": {},
   "outputs": [
    {
     "data": {
      "text/plain": [
       "label\n",
       "0     16\n",
       "1      1\n",
       "2     11\n",
       "3     40\n",
       "4     46\n",
       "5     13\n",
       "6     41\n",
       "7     42\n",
       "8     16\n",
       "9      6\n",
       "10    12\n",
       "11     4\n",
       "dtype: int64"
      ]
     },
     "execution_count": 55,
     "metadata": {},
     "output_type": "execute_result"
    }
   ],
   "source": [
    "ddf.groupby('label').size()"
   ]
  },
  {
   "cell_type": "code",
   "execution_count": null,
   "metadata": {
    "collapsed": true
   },
   "outputs": [],
   "source": []
  }
 ],
 "metadata": {
  "kernelspec": {
   "display_name": "Python 3",
   "language": "python",
   "name": "python3"
  },
  "language_info": {
   "codemirror_mode": {
    "name": "ipython",
    "version": 3
   },
   "file_extension": ".py",
   "mimetype": "text/x-python",
   "name": "python",
   "nbconvert_exporter": "python",
   "pygments_lexer": "ipython3",
   "version": "3.6.1"
  }
 },
 "nbformat": 4,
 "nbformat_minor": 2
}
