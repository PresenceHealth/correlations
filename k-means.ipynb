{
 "cells": [
  {
   "cell_type": "code",
   "execution_count": 108,
   "metadata": {
    "collapsed": true
   },
   "outputs": [],
   "source": [
    "import pandas as pd\n",
    "import numpy as np\n",
    "from scipy.cluster.vq import kmeans,vq,whiten"
   ]
  },
  {
   "cell_type": "code",
   "execution_count": 109,
   "metadata": {
    "collapsed": true
   },
   "outputs": [],
   "source": [
    "df = pd.read_csv('HealthViz County Dataset 6 21 17.csv', skiprows=0, header=1, index_col=0, encoding = \"ISO-8859-1\")\n",
    "df.index.name=None"
   ]
  },
  {
   "cell_type": "code",
   "execution_count": 110,
   "metadata": {},
   "outputs": [],
   "source": [
    "df.dropna(axis=0, how='any', inplace=True)\n",
    "df_county = df[['County']] # dataframe has the geo information\n",
    "df.drop(df.columns[[0]], axis=1, inplace=True) #drop 'County'"
   ]
  },
  {
   "cell_type": "code",
   "execution_count": 111,
   "metadata": {
    "collapsed": true
   },
   "outputs": [],
   "source": [
    "### Split dataframe into different levels based on the population ###\n",
    "def split_df(df, num, col_population):\n",
    "    '''\n",
    "    Split dataframe into desired number of groups based on the population\n",
    "        num: int\n",
    "        col_population: string, e.g 'Population (residents), 2011-2015'\n",
    "        \n",
    "        return: a list of sub dataframes\n",
    "    '''\n",
    "    rows, cols = df.shape\n",
    "    size = int(round(rows/num, 0))\n",
    "    df = df.sort_values(col_population, ascending=True)\n",
    "    l = []\n",
    "    for g, df in df.groupby(np.arange(len(df)) // size):\n",
    "        l = l + [df]\n",
    "    if len(l) > num:\n",
    "        df1 = l[-1]\n",
    "        df2 = l[-2]\n",
    "        df3 = df2.append(df1)\n",
    "        l = l[: -2]\n",
    "        l = l + [df3]\n",
    "    return l\n"
   ]
  },
  {
   "cell_type": "code",
   "execution_count": 112,
   "metadata": {},
   "outputs": [
    {
     "name": "stdout",
     "output_type": "stream",
     "text": [
      "(248, 17)\n",
      "(248, 17)\n",
      "(248, 17)\n",
      "(248, 17)\n",
      "(248, 17)\n",
      "(248, 17)\n",
      "(248, 17)\n",
      "(248, 17)\n",
      "(248, 17)\n",
      "(250, 17)\n"
     ]
    }
   ],
   "source": [
    "# for check\n",
    "l = split_df(df, 10, 'Population (residents), 2011-2015')\n",
    "for i in l:\n",
    "    print(i.shape)"
   ]
  },
  {
   "cell_type": "code",
   "execution_count": 113,
   "metadata": {
    "collapsed": true
   },
   "outputs": [],
   "source": [
    "# elbow effect to choose K in K-means\n",
    "# sum of squared error (SSE): sum of the squared distance between each member of the cluster and its centroid\n",
    "\n",
    "### Get K function ###\n",
    "def get_k(df, size):\n",
    "    '''\n",
    "    Using the size of each cluster to determine the number of clusters, which is K\n",
    "        size: int\n",
    "    '''\n",
    "    rows, cols = df.shape\n",
    "    k = int(round(rows/size, 0))\n",
    "    return k\n",
    "\n",
    "\n",
    "### Check K ###\n",
    "from scipy.cluster.vq import kmeans,vq,whiten\n",
    "from scipy.spatial.distance import cdist\n",
    "import matplotlib.pyplot as plt\n",
    "\n",
    "def check_k(df, k, graph_range):\n",
    "    '''\n",
    "    range(1, 100)\n",
    "    '''\n",
    "    a,b = graph_range\n",
    "    K = range(a,b)\n",
    "    X = whiten(df)\n",
    "    KM = [kmeans(X,k) for k in K]\n",
    "    centroids = [cent for (cent,var) in KM]\n",
    "    D_k = [cdist(X, cent, 'euclidean') for cent in centroids]\n",
    "    #cIdx = [np.argmin(D,axis=1) for D in D_k]\n",
    "    dist = [np.min(D,axis=1) for D in D_k]\n",
    "    avgWithinSS = [sum(d)/X.shape[0] for d in dist]\n",
    "    l = []\n",
    "    for i in range(a-1, b-2):\n",
    "        rate = abs(avgWithinSS[i+1] - avgWithinSS[i])/avgWithinSS[i]\n",
    "        l = l + [rate]\n",
    "    k_changing_rate = l[k-2]\n",
    "    \n",
    "    kIdx = k-1\n",
    "    fig = plt.figure()\n",
    "    ax = fig.add_subplot(111)\n",
    "    ax.plot(K, avgWithinSS, 'b*-')\n",
    "    ax.plot(K[kIdx], avgWithinSS[kIdx], marker='o', markersize=12, \n",
    "        markeredgewidth=2, markeredgecolor='r', markerfacecolor='None') #K[kIdx] [kIdx]\n",
    "    plt.grid(True)\n",
    "    plt.xlabel('Number of clusters')\n",
    "    plt.ylabel('Average within-cluster sum of squares')\n",
    "    plt.title('Elbow for KMeans clustering')\n",
    "    plt.show()\n",
    "    \n",
    "    return k_changing_rate"
   ]
  },
  {
   "cell_type": "code",
   "execution_count": 114,
   "metadata": {},
   "outputs": [
    {
     "name": "stdout",
     "output_type": "stream",
     "text": [
      "K is 12\n"
     ]
    },
    {
     "data": {
      "image/png": "[encoded data removed]",
      "text/plain": [
       "<matplotlib.figure.Figure at 0x1214c6320>"
      ]
     },
     "metadata": {},
     "output_type": "display_data"
    },
    {
     "data": {
      "text/plain": [
       "0.023613755810902668"
      ]
     },
     "execution_count": 114,
     "metadata": {},
     "output_type": "execute_result"
    }
   ],
   "source": [
    "df1 = l[0] # get a subset\n",
    "k = get_k(df1, 20) # decide the size to be around 20\n",
    "print ('K is', k)\n",
    "\n",
    "### check k ###\n",
    "graph_range = (1,100) # decide the check-k graph range\n",
    "check_k(df1, k, graph_range)"
   ]
  },
  {
   "cell_type": "code",
   "execution_count": 115,
   "metadata": {},
   "outputs": [],
   "source": [
    "### get the K-means clustering table ###\n",
    "from sklearn.cluster import KMeans\n",
    "import numpy as np\n",
    "def get_k_means(df,k):\n",
    "    X = whiten(df)\n",
    "    kmeans = KMeans(n_clusters=k, random_state=0).fit(X)\n",
    "    df['label'] = kmeans.labels_.tolist()\n",
    "    return df\n",
    "\n",
    "def get_table(df, k):\n",
    "    l = []\n",
    "    label = []\n",
    "    d = {}\n",
    "    for i in range(0,k):\n",
    "        group = df['label'] == i\n",
    "        data = df[group]\n",
    "        index = data.index.tolist()\n",
    "        #print (index)\n",
    "        l.append(index)\n",
    "        label += [i]\n",
    "    d['label'] = label\n",
    "    d['ID'] = l\n",
    "    table = pd.DataFrame(data=d)\n",
    "    return (table, l)\n",
    "\n",
    "def get_kmeans_table(df, df_county, k):\n",
    "    data = get_k_means(df, k)\n",
    "    table, l = get_table(data, k)\n",
    "    new_df = pd.merge(df, df_county, left_index=True, right_index=True)\n",
    "    county_l = []\n",
    "    for i in l:\n",
    "        name_l = new_df.ix[i]['County'].values.tolist()\n",
    "        county_l.append(name_l)\n",
    "    se = pd.Series(county_l)\n",
    "    table['county name'] = se.values\n",
    "    return table"
   ]
  },
  {
   "cell_type": "code",
   "execution_count": 116,
   "metadata": {},
   "outputs": [
    {
     "name": "stderr",
     "output_type": "stream",
     "text": [
      "/Users/admin/anaconda/lib/python3.6/site-packages/ipykernel_launcher.py:32: DeprecationWarning: \n",
      ".ix is deprecated. Please use\n",
      ".loc for label based indexing or\n",
      ".iloc for positional indexing\n",
      "\n",
      "See the documentation here:\n",
      "http://pandas.pydata.org/pandas-docs/stable/indexing.html#deprecate_ix\n"
     ]
    },
    {
     "data": {
      "text/html": [
       "<div>\n",
       "<style>\n",
       "    .dataframe thead tr:only-child th {\n",
       "        text-align: right;\n",
       "    }\n",
       "\n",
       "    .dataframe thead th {\n",
       "        text-align: left;\n",
       "    }\n",
       "\n",
       "    .dataframe tbody tr th {\n",
       "        vertical-align: top;\n",
       "    }\n",
       "</style>\n",
       "<table border=\"1\" class=\"dataframe\">\n",
       "  <thead>\n",
       "    <tr style=\"text-align: right;\">\n",
       "      <th></th>\n",
       "      <th>ID</th>\n",
       "      <th>label</th>\n",
       "      <th>county name</th>\n",
       "    </tr>\n",
       "  </thead>\n",
       "  <tbody>\n",
       "    <tr>\n",
       "      <th>0</th>\n",
       "      <td>[35033, 13249, 48107, 40033, 30005, 51530, 480...</td>\n",
       "      <td>0</td>\n",
       "      <td>[Mora County, NM, Schley County, GA, Crosby Co...</td>\n",
       "    </tr>\n",
       "    <tr>\n",
       "      <th>1</th>\n",
       "      <td>[2170]</td>\n",
       "      <td>1</td>\n",
       "      <td>[Matanuska-Susitna Borough, AK]</td>\n",
       "    </tr>\n",
       "    <tr>\n",
       "      <th>2</th>\n",
       "      <td>[48495, 48501, 4011, 40085, 48369, 49023, 4839...</td>\n",
       "      <td>2</td>\n",
       "      <td>[Winkler County, TX, Yoakum County, TX, Greenl...</td>\n",
       "    </tr>\n",
       "    <tr>\n",
       "      <th>3</th>\n",
       "      <td>[20197, 18171, 21143, 19051, 40151, 31039, 310...</td>\n",
       "      <td>3</td>\n",
       "      <td>[Wabaunsee County, KS, Warren County, IN, Lyon...</td>\n",
       "    </tr>\n",
       "    <tr>\n",
       "      <th>4</th>\n",
       "      <td>[54105, 48207, 51021, 21181, 54013, 54073, 471...</td>\n",
       "      <td>4</td>\n",
       "      <td>[Wirt County, WV, Haskell County, TX, Bland Co...</td>\n",
       "    </tr>\n",
       "    <tr>\n",
       "      <th>5</th>\n",
       "      <td>[8025, 37095, 13259, 8011, 21075, 47067, 21129...</td>\n",
       "      <td>5</td>\n",
       "      <td>[Crowley County, CO, Hyde County, NC, Stewart ...</td>\n",
       "    </tr>\n",
       "    <tr>\n",
       "      <th>6</th>\n",
       "      <td>[46109, 27155, 46045, 30071, 38103, 46053, 311...</td>\n",
       "      <td>6</td>\n",
       "      <td>[Roberts County, SD, Traverse County, MN, Edmu...</td>\n",
       "    </tr>\n",
       "    <tr>\n",
       "      <th>7</th>\n",
       "      <td>[26131, 54093, 54071, 29057, 29041, 41037, 311...</td>\n",
       "      <td>7</td>\n",
       "      <td>[Ontonagon County, MI, Tucker County, WV, Pend...</td>\n",
       "    </tr>\n",
       "    <tr>\n",
       "      <th>8</th>\n",
       "      <td>[13283, 51036, 13243, 28009, 48405, 13165, 450...</td>\n",
       "      <td>8</td>\n",
       "      <td>[Treutlen County, GA, Charles City County, VA,...</td>\n",
       "    </tr>\n",
       "    <tr>\n",
       "      <th>9</th>\n",
       "      <td>[38085, 46041, 31173, 51620, 46121, 28143]</td>\n",
       "      <td>9</td>\n",
       "      <td>[Sioux County, ND, Dewey County, SD, Thurston ...</td>\n",
       "    </tr>\n",
       "    <tr>\n",
       "      <th>10</th>\n",
       "      <td>[28063, 28119, 13141, 13273, 28157, 45005, 507...</td>\n",
       "      <td>10</td>\n",
       "      <td>[Jefferson County, MS, Quitman County, MS, Han...</td>\n",
       "    </tr>\n",
       "    <tr>\n",
       "      <th>11</th>\n",
       "      <td>[48283, 48047, 48127, 48131]</td>\n",
       "      <td>11</td>\n",
       "      <td>[La Salle County, TX, Brooks County, TX, Dimmi...</td>\n",
       "    </tr>\n",
       "  </tbody>\n",
       "</table>\n",
       "</div>"
      ],
      "text/plain": [
       "                                                   ID  label  \\\n",
       "0   [35033, 13249, 48107, 40033, 30005, 51530, 480...      0   \n",
       "1                                              [2170]      1   \n",
       "2   [48495, 48501, 4011, 40085, 48369, 49023, 4839...      2   \n",
       "3   [20197, 18171, 21143, 19051, 40151, 31039, 310...      3   \n",
       "4   [54105, 48207, 51021, 21181, 54013, 54073, 471...      4   \n",
       "5   [8025, 37095, 13259, 8011, 21075, 47067, 21129...      5   \n",
       "6   [46109, 27155, 46045, 30071, 38103, 46053, 311...      6   \n",
       "7   [26131, 54093, 54071, 29057, 29041, 41037, 311...      7   \n",
       "8   [13283, 51036, 13243, 28009, 48405, 13165, 450...      8   \n",
       "9          [38085, 46041, 31173, 51620, 46121, 28143]      9   \n",
       "10  [28063, 28119, 13141, 13273, 28157, 45005, 507...     10   \n",
       "11                       [48283, 48047, 48127, 48131]     11   \n",
       "\n",
       "                                          county name  \n",
       "0   [Mora County, NM, Schley County, GA, Crosby Co...  \n",
       "1                     [Matanuska-Susitna Borough, AK]  \n",
       "2   [Winkler County, TX, Yoakum County, TX, Greenl...  \n",
       "3   [Wabaunsee County, KS, Warren County, IN, Lyon...  \n",
       "4   [Wirt County, WV, Haskell County, TX, Bland Co...  \n",
       "5   [Crowley County, CO, Hyde County, NC, Stewart ...  \n",
       "6   [Roberts County, SD, Traverse County, MN, Edmu...  \n",
       "7   [Ontonagon County, MI, Tucker County, WV, Pend...  \n",
       "8   [Treutlen County, GA, Charles City County, VA,...  \n",
       "9   [Sioux County, ND, Dewey County, SD, Thurston ...  \n",
       "10  [Jefferson County, MS, Quitman County, MS, Han...  \n",
       "11  [La Salle County, TX, Brooks County, TX, Dimmi...  "
      ]
     },
     "execution_count": 116,
     "metadata": {},
     "output_type": "execute_result"
    }
   ],
   "source": [
    "### example for the small population counties ###\n",
    "get_kmeans_table(df1, df_county, 12)"
   ]
  },
  {
   "cell_type": "code",
   "execution_count": 118,
   "metadata": {},
   "outputs": [],
   "source": [
    "### example for the large population counties ###\n",
    "df_large = l[-1]"
   ]
  },
  {
   "cell_type": "code",
   "execution_count": 134,
   "metadata": {
    "collapsed": true
   },
   "outputs": [],
   "source": [
    "### preprocess data\n",
    "df_large.drop(['Population (residents), 2011-2015', 'Population, Non-Hispanic Black (residents), 2011-2015', 'Population, Hispanic or Latino (residents), 2011-2015',\\\n",
    "              'Population, Asian or Pacific Islander (residents), 2011-2015','Total election votes (Presidential) (votes), 2016'],inplace=True,axis=1)\n",
    "\n",
    "def get_log(df, l):\n",
    "    '''\n",
    "    Get the log values of certain dollar related variables, with the input of a list of variable names\n",
    "        l: a list of strings (variable name)\n",
    "    '''\n",
    "    for i in l:\n",
    "        data = df[[i]]\n",
    "        array = np.log(data.values)\n",
    "        data = pd.DataFrame(array, columns=data.columns, index=data.index)\n",
    "        df[i] = data[i]\n",
    "    return df\n",
    "\n",
    "df_large = get_log(df_large, ['Median household income, 2011-2015'])"
   ]
  },
  {
   "cell_type": "code",
   "execution_count": 138,
   "metadata": {},
   "outputs": [
    {
     "name": "stderr",
     "output_type": "stream",
     "text": [
      "/Users/admin/anaconda/lib/python3.6/site-packages/ipykernel_launcher.py:32: DeprecationWarning: \n",
      ".ix is deprecated. Please use\n",
      ".loc for label based indexing or\n",
      ".iloc for positional indexing\n",
      "\n",
      "See the documentation here:\n",
      "http://pandas.pydata.org/pandas-docs/stable/indexing.html#deprecate_ix\n"
     ]
    },
    {
     "data": {
      "text/html": [
       "<div>\n",
       "<style>\n",
       "    .dataframe thead tr:only-child th {\n",
       "        text-align: right;\n",
       "    }\n",
       "\n",
       "    .dataframe thead th {\n",
       "        text-align: left;\n",
       "    }\n",
       "\n",
       "    .dataframe tbody tr th {\n",
       "        vertical-align: top;\n",
       "    }\n",
       "</style>\n",
       "<table border=\"1\" class=\"dataframe\">\n",
       "  <thead>\n",
       "    <tr style=\"text-align: right;\">\n",
       "      <th></th>\n",
       "      <th>ID</th>\n",
       "      <th>label</th>\n",
       "      <th>county name</th>\n",
       "    </tr>\n",
       "  </thead>\n",
       "  <tbody>\n",
       "    <tr>\n",
       "      <th>0</th>\n",
       "      <td>[48061, 48215, 48141]</td>\n",
       "      <td>0</td>\n",
       "      <td>[Cameron County, TX, Hidalgo County, TX, El Pa...</td>\n",
       "    </tr>\n",
       "    <tr>\n",
       "      <th>1</th>\n",
       "      <td>[13051, 29077, 26065, 48303, 21067, 37051, 370...</td>\n",
       "      <td>1</td>\n",
       "      <td>[Chatham County, GA, Greene County, MO, Ingham...</td>\n",
       "    </tr>\n",
       "    <tr>\n",
       "      <th>2</th>\n",
       "      <td>[18057, 24027, 8035, 8013, 34035, 51107, 34027...</td>\n",
       "      <td>2</td>\n",
       "      <td>[Hamilton County, IN, Howard County, MD, Dougl...</td>\n",
       "    </tr>\n",
       "    <tr>\n",
       "      <th>3</th>\n",
       "      <td>[33015, 17111, 8069, 51087, 36087, 51041, 2918...</td>\n",
       "      <td>3</td>\n",
       "      <td>[Rockingham County, NH, McHenry County, IL, La...</td>\n",
       "    </tr>\n",
       "    <tr>\n",
       "      <th>4</th>\n",
       "      <td>[6087, 23005, 36001, 34021, 6083, 6097, 27123,...</td>\n",
       "      <td>4</td>\n",
       "      <td>[Santa Cruz County, CA, Cumberland County, ME,...</td>\n",
       "    </tr>\n",
       "    <tr>\n",
       "      <th>5</th>\n",
       "      <td>[17119, 42043, 9011, 6079, 34015, 36027, 42095...</td>\n",
       "      <td>5</td>\n",
       "      <td>[Madison County, IL, Dauphin County, PA, New L...</td>\n",
       "    </tr>\n",
       "    <tr>\n",
       "      <th>6</th>\n",
       "      <td>[34001, 42049, 17201, 45051, 45083, 12097, 390...</td>\n",
       "      <td>6</td>\n",
       "      <td>[Atlantic County, NJ, Erie County, PA, Winneba...</td>\n",
       "    </tr>\n",
       "    <tr>\n",
       "      <th>7</th>\n",
       "      <td>[29510, 22071, 24510, 34013, 36005, 42101, 261...</td>\n",
       "      <td>7</td>\n",
       "      <td>[St. Louis city, MO, Orleans Parish, LA, Balti...</td>\n",
       "    </tr>\n",
       "    <tr>\n",
       "      <th>8</th>\n",
       "      <td>[41047, 26049, 6107, 6099, 6077, 6029, 6019, 6...</td>\n",
       "      <td>8</td>\n",
       "      <td>[Marion County, OR, Genesee County, MI, Tulare...</td>\n",
       "    </tr>\n",
       "    <tr>\n",
       "      <th>9</th>\n",
       "      <td>[12073, 37063, 26161, 55025, 11001, 8031, 3401...</td>\n",
       "      <td>9</td>\n",
       "      <td>[Leon County, FL, Durham County, NC, Washtenaw...</td>\n",
       "    </tr>\n",
       "    <tr>\n",
       "      <th>10</th>\n",
       "      <td>[12111, 12069, 12083, 12021, 12081, 12115, 120...</td>\n",
       "      <td>10</td>\n",
       "      <td>[St. Lucie County, FL, Lake County, FL, Marion...</td>\n",
       "    </tr>\n",
       "    <tr>\n",
       "      <th>11</th>\n",
       "      <td>[40027, 8123, 26139, 45063, 47149, 31109, 2020...</td>\n",
       "      <td>11</td>\n",
       "      <td>[Cleveland County, OK, Weld County, CO, Ottawa...</td>\n",
       "    </tr>\n",
       "  </tbody>\n",
       "</table>\n",
       "</div>"
      ],
      "text/plain": [
       "                                                   ID  label  \\\n",
       "0                               [48061, 48215, 48141]      0   \n",
       "1   [13051, 29077, 26065, 48303, 21067, 37051, 370...      1   \n",
       "2   [18057, 24027, 8035, 8013, 34035, 51107, 34027...      2   \n",
       "3   [33015, 17111, 8069, 51087, 36087, 51041, 2918...      3   \n",
       "4   [6087, 23005, 36001, 34021, 6083, 6097, 27123,...      4   \n",
       "5   [17119, 42043, 9011, 6079, 34015, 36027, 42095...      5   \n",
       "6   [34001, 42049, 17201, 45051, 45083, 12097, 390...      6   \n",
       "7   [29510, 22071, 24510, 34013, 36005, 42101, 261...      7   \n",
       "8   [41047, 26049, 6107, 6099, 6077, 6029, 6019, 6...      8   \n",
       "9   [12073, 37063, 26161, 55025, 11001, 8031, 3401...      9   \n",
       "10  [12111, 12069, 12083, 12021, 12081, 12115, 120...     10   \n",
       "11  [40027, 8123, 26139, 45063, 47149, 31109, 2020...     11   \n",
       "\n",
       "                                          county name  \n",
       "0   [Cameron County, TX, Hidalgo County, TX, El Pa...  \n",
       "1   [Chatham County, GA, Greene County, MO, Ingham...  \n",
       "2   [Hamilton County, IN, Howard County, MD, Dougl...  \n",
       "3   [Rockingham County, NH, McHenry County, IL, La...  \n",
       "4   [Santa Cruz County, CA, Cumberland County, ME,...  \n",
       "5   [Madison County, IL, Dauphin County, PA, New L...  \n",
       "6   [Atlantic County, NJ, Erie County, PA, Winneba...  \n",
       "7   [St. Louis city, MO, Orleans Parish, LA, Balti...  \n",
       "8   [Marion County, OR, Genesee County, MI, Tulare...  \n",
       "9   [Leon County, FL, Durham County, NC, Washtenaw...  \n",
       "10  [St. Lucie County, FL, Lake County, FL, Marion...  \n",
       "11  [Cleveland County, OK, Weld County, CO, Ottawa...  "
      ]
     },
     "execution_count": 138,
     "metadata": {},
     "output_type": "execute_result"
    }
   ],
   "source": [
    "get_kmeans_table(df_large, df_county, 12)"
   ]
  },
  {
   "cell_type": "code",
   "execution_count": 139,
   "metadata": {},
   "outputs": [
    {
     "name": "stdout",
     "output_type": "stream",
     "text": [
      "{'ID': {0: [13051, 29077, 26065, 48303, 21067, 37051, 37067, 18003, 45019, 5119, 45079, 6053, 6083, 47093, 22033, 45045, 20173, 37081, 31055, 40143, 47037, 1073, 35001, 29095, 40109, 21111, 39061, 12031, 18097, 47157, 55079, 37119, 4019, 39049, 12095, 12057, 48029, 48439, 32003, 48113, 4013, 48201, 17031, 6037], 1: [18057, 24027, 8035, 8013, 34035, 51107, 24031, 51059, 25017], 2: [17119, 34001, 42049, 17201, 45051, 45083, 12097, 39093, 12033, 42079, 47065, 48355, 41039, 42129, 39151, 4021, 42011, 1097, 22051, 39095, 25013, 12101, 53063, 18089, 12127, 34031, 39113, 39153, 12105, 44007, 26099, 39035, 6067, 6065], 3: [29510, 22071, 24510, 34017, 25025, 41051, 34013, 42101, 36047, 12086], 4: [41047, 26049, 6107, 6099, 6077, 6029, 6019, 26163, 6071], 5: [12111, 12069, 12083, 12021, 12081, 12115, 12009, 34029, 12071, 12103, 12099], 6: [36027, 33015, 17111, 8069, 51087, 51041, 6061, 29183, 55133, 33011, 27037, 51153, 51810, 34005, 48491, 8059, 24003, 42017, 48157, 17197, 13067, 48121, 34023, 48085, 37183, 36103], 7: [42043, 9011, 6079, 23005, 34015, 42095, 36001, 42077, 36071, 41005, 6095, 32031, 12117, 42133, 53011, 19153, 36067, 36085, 6097, 25023, 34007, 27123, 42071, 34039, 10003, 25005, 42045, 26081, 53061, 36055, 25009, 25027, 24005, 6111, 9009, 9003, 36029, 15003, 42003, 12011, 36081, 6073], 8: [40027, 8123, 26139, 45063, 47149, 31109, 2020, 48167, 49011, 48027, 48039, 27003, 1089, 39017, 16001, 8001, 48339, 17089, 49049, 41067, 8041, 53053, 13135, 24033, 49035], 9: [48061, 48215, 48141, 36005], 10: [6087, 12073, 37063, 26161, 55025, 11001, 8031, 13089, 6075, 13121, 48453, 6001, 36061, 53033], 11: [36087, 34021, 34027, 42029, 20091, 8005, 34025, 25021, 17097, 6081, 42091, 34003, 17043, 9001, 36119, 29189, 6013, 27053, 26125, 36059, 6085, 6059]}, 'label': {0: 0, 1: 1, 2: 2, 3: 3, 4: 4, 5: 5, 6: 6, 7: 7, 8: 8, 9: 9, 10: 10, 11: 11}, 'county name': {0: ['Chatham County, GA', 'Greene County, MO', 'Ingham County, MI', 'Lubbock County, TX', 'Fayette County, KY', 'Cumberland County, NC', 'Forsyth County, NC', 'Allen County, IN', 'Charleston County, SC', 'Pulaski County, AR', 'Richland County, SC', 'Monterey County, CA', 'Santa Barbara County, CA', 'Knox County, TN', 'East Baton Rouge Parish, LA', 'Greenville County, SC', 'Sedgwick County, KS', 'Guilford County, NC', 'Douglas County, NE', 'Tulsa County, OK', 'Davidson County, TN', 'Jefferson County, AL', 'Bernalillo County, NM', 'Jackson County, MO', 'Oklahoma County, OK', 'Jefferson County, KY', 'Hamilton County, OH', 'Duval County, FL', 'Marion County, IN', 'Shelby County, TN', 'Milwaukee County, WI', 'Mecklenburg County, NC', 'Pima County, AZ', 'Franklin County, OH', 'Orange County, FL', 'Hillsborough County, FL', 'Bexar County, TX', 'Tarrant County, TX', 'Clark County, NV', 'Dallas County, TX', 'Maricopa County, AZ', 'Harris County, TX', 'Cook County, IL', 'Los Angeles County, CA'], 1: ['Hamilton County, IN', 'Howard County, MD', 'Douglas County, CO', 'Boulder County, CO', 'Somerset County, NJ', 'Loudoun County, VA', 'Montgomery County, MD', 'Fairfax County, VA', 'Middlesex County, MA'], 2: ['Madison County, IL', 'Atlantic County, NJ', 'Erie County, PA', 'Winnebago County, IL', 'Horry County, SC', 'Spartanburg County, SC', 'Osceola County, FL', 'Lorain County, OH', 'Escambia County, FL', 'Luzerne County, PA', 'Hamilton County, TN', 'Nueces County, TX', 'Lane County, OR', 'Westmoreland County, PA', 'Stark County, OH', 'Pinal County, AZ', 'Berks County, PA', 'Mobile County, AL', 'Jefferson Parish, LA', 'Lucas County, OH', 'Hampden County, MA', 'Pasco County, FL', 'Spokane County, WA', 'Lake County, IN', 'Volusia County, FL', 'Passaic County, NJ', 'Montgomery County, OH', 'Summit County, OH', 'Polk County, FL', 'Providence County, RI', 'Macomb County, MI', 'Cuyahoga County, OH', 'Sacramento County, CA', 'Riverside County, CA'], 3: ['St. Louis city, MO', 'Orleans Parish, LA', 'Baltimore city, MD', 'Hudson County, NJ', 'Suffolk County, MA', 'Multnomah County, OR', 'Essex County, NJ', 'Philadelphia County, PA', 'Kings County, NY', 'Miami-Dade County, FL'], 4: ['Marion County, OR', 'Genesee County, MI', 'Tulare County, CA', 'Stanislaus County, CA', 'San Joaquin County, CA', 'Kern County, CA', 'Fresno County, CA', 'Wayne County, MI', 'San Bernardino County, CA'], 5: ['St. Lucie County, FL', 'Lake County, FL', 'Marion County, FL', 'Collier County, FL', 'Manatee County, FL', 'Sarasota County, FL', 'Brevard County, FL', 'Ocean County, NJ', 'Lee County, FL', 'Pinellas County, FL', 'Palm Beach County, FL'], 6: ['Dutchess County, NY', 'Rockingham County, NH', 'McHenry County, IL', 'Larimer County, CO', 'Henrico County, VA', 'Chesterfield County, VA', 'Placer County, CA', 'St. Charles County, MO', 'Waukesha County, WI', 'Hillsborough County, NH', 'Dakota County, MN', 'Prince William County, VA', 'Virginia Beach city, VA', 'Burlington County, NJ', 'Williamson County, TX', 'Jefferson County, CO', 'Anne Arundel County, MD', 'Bucks County, PA', 'Fort Bend County, TX', 'Will County, IL', 'Cobb County, GA', 'Denton County, TX', 'Middlesex County, NJ', 'Collin County, TX', 'Wake County, NC', 'Suffolk County, NY'], 7: ['Dauphin County, PA', 'New London County, CT', 'San Luis Obispo County, CA', 'Cumberland County, ME', 'Gloucester County, NJ', 'Northampton County, PA', 'Albany County, NY', 'Lehigh County, PA', 'Orange County, NY', 'Clackamas County, OR', 'Solano County, CA', 'Washoe County, NV', 'Seminole County, FL', 'York County, PA', 'Clark County, WA', 'Polk County, IA', 'Onondaga County, NY', 'Richmond County, NY', 'Sonoma County, CA', 'Plymouth County, MA', 'Camden County, NJ', 'Ramsey County, MN', 'Lancaster County, PA', 'Union County, NJ', 'New Castle County, DE', 'Bristol County, MA', 'Delaware County, PA', 'Kent County, MI', 'Snohomish County, WA', 'Monroe County, NY', 'Essex County, MA', 'Worcester County, MA', 'Baltimore County, MD', 'Ventura County, CA', 'New Haven County, CT', 'Hartford County, CT', 'Erie County, NY', 'Honolulu County, HI', 'Allegheny County, PA', 'Broward County, FL', 'Queens County, NY', 'San Diego County, CA'], 8: ['Cleveland County, OK', 'Weld County, CO', 'Ottawa County, MI', 'Lexington County, SC', 'Rutherford County, TN', 'Lancaster County, NE', 'Anchorage Municipality, AK', 'Galveston County, TX', 'Davis County, UT', 'Bell County, TX', 'Brazoria County, TX', 'Anoka County, MN', 'Madison County, AL', 'Butler County, OH', 'Ada County, ID', 'Adams County, CO', 'Montgomery County, TX', 'Kane County, IL', 'Utah County, UT', 'Washington County, OR', 'El Paso County, CO', 'Pierce County, WA', 'Gwinnett County, GA', \"Prince George's County, MD\", 'Salt Lake County, UT'], 9: ['Cameron County, TX', 'Hidalgo County, TX', 'El Paso County, TX', 'Bronx County, NY'], 10: ['Santa Cruz County, CA', 'Leon County, FL', 'Durham County, NC', 'Washtenaw County, MI', 'Dane County, WI', 'District of Columbia', 'Denver County, CO', 'DeKalb County, GA', 'San Francisco County, CA', 'Fulton County, GA', 'Travis County, TX', 'Alameda County, CA', 'New York County, NY', 'King County, WA'], 11: ['Rockland County, NY', 'Mercer County, NJ', 'Morris County, NJ', 'Chester County, PA', 'Johnson County, KS', 'Arapahoe County, CO', 'Monmouth County, NJ', 'Norfolk County, MA', 'Lake County, IL', 'San Mateo County, CA', 'Montgomery County, PA', 'Bergen County, NJ', 'DuPage County, IL', 'Fairfield County, CT', 'Westchester County, NY', 'St. Louis County, MO', 'Contra Costa County, CA', 'Hennepin County, MN', 'Oakland County, MI', 'Nassau County, NY', 'Santa Clara County, CA', 'Orange County, CA']}}\n"
     ]
    },
    {
     "name": "stderr",
     "output_type": "stream",
     "text": [
      "/Users/admin/anaconda/lib/python3.6/site-packages/ipykernel_launcher.py:32: DeprecationWarning: \n",
      ".ix is deprecated. Please use\n",
      ".loc for label based indexing or\n",
      ".iloc for positional indexing\n",
      "\n",
      "See the documentation here:\n",
      "http://pandas.pydata.org/pandas-docs/stable/indexing.html#deprecate_ix\n"
     ]
    }
   ],
   "source": [
    "d = get_kmeans_table(df_large, df_county, 12)\n",
    "print(d.to_dict())"
   ]
  },
  {
   "cell_type": "code",
   "execution_count": null,
   "metadata": {
    "collapsed": true
   },
   "outputs": [],
   "source": []
  }
 ],
 "metadata": {
  "kernelspec": {
   "display_name": "Python 3",
   "language": "python",
   "name": "python3"
  },
  "language_info": {
   "codemirror_mode": {
    "name": "ipython",
    "version": 3
   },
   "file_extension": ".py",
   "mimetype": "text/x-python",
   "name": "python",
   "nbconvert_exporter": "python",
   "pygments_lexer": "ipython3",
   "version": "3.6.1"
  }
 },
 "nbformat": 4,
 "nbformat_minor": 2
}
