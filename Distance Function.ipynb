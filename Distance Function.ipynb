{
 "cells": [
  {
   "cell_type": "code",
   "execution_count": 79,
   "metadata": {
    "collapsed": true
   },
   "outputs": [],
   "source": [
    "import pandas as pd\n",
    "import numpy as np"
   ]
  },
  {
   "cell_type": "code",
   "execution_count": 80,
   "metadata": {
    "collapsed": true
   },
   "outputs": [],
   "source": [
    "df = pd.read_csv('HealthViz-county-071017.csv', skiprows=0, header=1, index_col=0)\n",
    "df.index.name=None\n",
    "df.rename(columns={'Unnamed: 1': 'County'}, inplace=True)\n",
    "df_no_null = df.copy()"
   ]
  },
  {
   "cell_type": "code",
   "execution_count": 81,
   "metadata": {
    "collapsed": true
   },
   "outputs": [],
   "source": [
    "df_no_null.dropna(axis=0, how='any',inplace=True)\n",
    "df_no_null.drop(df_no_null.columns[[0]], axis=1,inplace=True) #drop 'County'\n",
    "#df.drop(df.columns[[0]], axis=1,inplace=True) #drop 'County'"
   ]
  },
  {
   "cell_type": "code",
   "execution_count": 82,
   "metadata": {
    "collapsed": true
   },
   "outputs": [],
   "source": [
    "### Direct Distance Computation ###\n",
    "# Step 1: get log values for $ related variabes, normalize/whiten the dataframe, determine the target place (represented in GEOID, int)\n",
    "# Step 2: Get the Euclidean distance of values between each place and the target one for each row in dataframe\n",
    "# Step 3: Sort the dataframe based on the arising order of the distance\n",
    "# Step 4: Get the list of top N similar places\n",
    "\n",
    "#log cann ignore null when dealing with data\n",
    "#modified whiten function can ignore null as well\n",
    "\n",
    "\n",
    "def get_log(df, l):\n",
    "    '''\n",
    "    Get the log values of certain dollar related variables, with the input of a list of variable names\n",
    "        l: a list of strings (variable name)\n",
    "    '''\n",
    "    for i in l:\n",
    "        data = df[[i]]\n",
    "        array = np.log(data.values)\n",
    "        data = pd.DataFrame(array, columns=data.columns, index=data.index)\n",
    "        df[i] = data[i]\n",
    "    return df\n",
    "\n",
    "\n",
    "def whiten(obs):\n",
    "    '''\n",
    "    Modified whiten function from https://github.com/scipy/scipy/blob/v0.19.0/scipy/cluster/vq.py#L95-L148\n",
    "    Able to deal with dataset with null values using np.nanstd\n",
    "    '''\n",
    "    std_dev = np.nanstd(obs, axis=0)\n",
    "    zero_std_mask = std_dev == 0\n",
    "    if zero_std_mask.any():\n",
    "        std_dev[zero_std_mask] = 1.0\n",
    "        warnings.warn(\"Some columns have standard deviation zero. \"\n",
    "                      \"The values of these columns will not change.\",\n",
    "                      RuntimeWarning)\n",
    "    return obs / std_dev\n",
    "\n",
    "\n",
    "def normalize_df(df):\n",
    "    '''\n",
    "    Normalize/whiten the dataframe\n",
    "    '''\n",
    "    df = pd.DataFrame(whiten(df), columns=df.columns, index=df.index)\n",
    "    return df\n",
    "\n",
    "# def pre_prpcess_df\n",
    "# (dealing with null values, )get log values and do the normalization\n",
    "\n",
    "def get_distance(df, GEOID_target, GEOID):\n",
    "    '''\n",
    "    Get the Euclidean distance between two sets of values. \n",
    "    Distance has been scaled up.\n",
    "        GEOID_target, GEOID: index, int\n",
    "    '''\n",
    "    a = df.loc[[GEOID_target]].values # df.values\n",
    "    b = df.loc[[GEOID]].values\n",
    "    data = np.append(a,b,axis=0)\n",
    "    mask = np.isfinite(data)\n",
    "    curr = np.logical_and(mask[0], mask[1])\n",
    "    u = data[0][curr]\n",
    "    v = data[1][curr]\n",
    "    weight = (len(curr)/np.count_nonzero(curr))**(0.5)\n",
    "    dist = (np.linalg.norm(u - v))*weight\n",
    "    return dist\n",
    "\n",
    "def check_target_null(df, GEOID_target):\n",
    "    '''\n",
    "    Check whether there is NaN value of the target place. if there is, a warning message should be shown to the users\n",
    "    And the related column(s) will be dropped as well\n",
    "        GEOID_target: index, int\n",
    "    '''\n",
    "    target = df.loc[[GEOID_target]]\n",
    "    target_name = target.iloc[0]['County']\n",
    "    print ('The name of the target place is', target_name)\n",
    "    l = target.columns[target.isnull().any()].tolist()\n",
    "    if len(l) != 0:\n",
    "        print ('[NOTE]: The target place has NaN values for', l, ',which will not be considered in the computation.')\n",
    "        for i in l:\n",
    "            df.drop(i, axis=1, inplace=True)\n",
    "    return df\n",
    "    \n",
    "\n",
    "def  get_top_n_similar(data, l, GEOID_target, n): ### 'County' column dropped inside ###\n",
    "    '''\n",
    "    Get the N places which are similar to the target place\n",
    "        data: dataframe\n",
    "        l: a list of string(s), for get_log function\n",
    "        GEOID_target: index, int\n",
    "        n: int\n",
    "    '''\n",
    "    data = check_target_null(data, GEOID_target)\n",
    "    df = data.drop(data.columns[[0]], axis=1).copy() ### drop 'County' column ###\n",
    "    df = get_log(df, l)\n",
    "    df = normalize_df(df)\n",
    "    df['distance'] = df.apply(lambda x: get_distance(df, GEOID_target, x.name), axis=1)\n",
    "    df = df.sort_values('distance', ascending=True)\n",
    "    index_list = df.head(n+1).index.tolist()[1:]\n",
    "    county_list = data.ix[index_list]['County'].values.tolist()\n",
    "    return county_list"
   ]
  },
  {
   "cell_type": "code",
   "execution_count": 83,
   "metadata": {},
   "outputs": [
    {
     "name": "stdout",
     "output_type": "stream",
     "text": [
      "The name of the target place is Butler County, AL\n",
      "[NOTE]: The target place has NaN values for ['Teen birth rate, Females, Juveniles (5-17 years) (Births per 1,000 women), 2011-2015'] ,which will not be considered in the computation.\n"
     ]
    },
    {
     "name": "stderr",
     "output_type": "stream",
     "text": [
      "/Users/admin/anaconda/lib/python3.6/site-packages/ipykernel_launcher.py:98: DeprecationWarning: \n",
      ".ix is deprecated. Please use\n",
      ".loc for label based indexing or\n",
      ".iloc for positional indexing\n",
      "\n",
      "See the documentation here:\n",
      "http://pandas.pydata.org/pandas-docs/stable/indexing.html#deprecate_ix\n"
     ]
    },
    {
     "data": {
      "text/plain": [
       "['Choctaw County, AL',\n",
       " 'Chambers County, AL',\n",
       " 'Chester County, SC',\n",
       " 'Covington city, VA',\n",
       " 'Winston County, MS',\n",
       " 'Danville city, VA',\n",
       " 'Lenoir County, NC',\n",
       " 'Warren County, GA',\n",
       " 'Halifax County, NC',\n",
       " 'Gogebic County, MI']"
      ]
     },
     "execution_count": 83,
     "metadata": {},
     "output_type": "execute_result"
    }
   ],
   "source": [
    "GEOID_target = 1013\n",
    "n = 10\n",
    "get_top_n_similar(df, ['Median household income, 2011-2015'], GEOID_target, n)"
   ]
  },
  {
   "cell_type": "code",
   "execution_count": null,
   "metadata": {
    "collapsed": true
   },
   "outputs": [],
   "source": []
  }
 ],
 "metadata": {
  "kernelspec": {
   "display_name": "Python 3",
   "language": "python",
   "name": "python3"
  },
  "language_info": {
   "codemirror_mode": {
    "name": "ipython",
    "version": 3
   },
   "file_extension": ".py",
   "mimetype": "text/x-python",
   "name": "python",
   "nbconvert_exporter": "python",
   "pygments_lexer": "ipython3",
   "version": "3.6.1"
  }
 },
 "nbformat": 4,
 "nbformat_minor": 2
}
